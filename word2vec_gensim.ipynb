{
  "nbformat": 4,
  "nbformat_minor": 0,
  "metadata": {
    "colab": {
      "provenance": []
    },
    "kernelspec": {
      "name": "python3",
      "display_name": "Python 3"
    },
    "language_info": {
      "name": "python"
    }
  },
  "cells": [
    {
      "cell_type": "markdown",
      "source": [
        "Apply word2vec on a subset of the dataset of Amazon Product Reviews"
      ],
      "metadata": {
        "id": "y6zvNC9FTJXt"
      }
    },
    {
      "cell_type": "code",
      "execution_count": null,
      "metadata": {
        "colab": {
          "base_uri": "https://localhost:8080/"
        },
        "id": "huvLqV7ESoBA",
        "outputId": "ec07653a-b184-4f6c-90a7-0f0533b94541"
      },
      "outputs": [
        {
          "output_type": "stream",
          "name": "stdout",
          "text": [
            "Looking in indexes: https://pypi.org/simple, https://us-python.pkg.dev/colab-wheels/public/simple/\n",
            "Requirement already satisfied: kaggle in /usr/local/lib/python3.10/dist-packages (1.5.13)\n",
            "Requirement already satisfied: six>=1.10 in /usr/local/lib/python3.10/dist-packages (from kaggle) (1.16.0)\n",
            "Requirement already satisfied: certifi in /usr/local/lib/python3.10/dist-packages (from kaggle) (2022.12.7)\n",
            "Requirement already satisfied: python-dateutil in /usr/local/lib/python3.10/dist-packages (from kaggle) (2.8.2)\n",
            "Requirement already satisfied: requests in /usr/local/lib/python3.10/dist-packages (from kaggle) (2.27.1)\n",
            "Requirement already satisfied: tqdm in /usr/local/lib/python3.10/dist-packages (from kaggle) (4.65.0)\n",
            "Requirement already satisfied: python-slugify in /usr/local/lib/python3.10/dist-packages (from kaggle) (8.0.1)\n",
            "Requirement already satisfied: urllib3 in /usr/local/lib/python3.10/dist-packages (from kaggle) (1.26.15)\n",
            "Requirement already satisfied: text-unidecode>=1.3 in /usr/local/lib/python3.10/dist-packages (from python-slugify->kaggle) (1.3)\n",
            "Requirement already satisfied: charset-normalizer~=2.0.0 in /usr/local/lib/python3.10/dist-packages (from requests->kaggle) (2.0.12)\n",
            "Requirement already satisfied: idna<4,>=2.5 in /usr/local/lib/python3.10/dist-packages (from requests->kaggle) (3.4)\n"
          ]
        }
      ],
      "source": [
        "#installing the kaggle library\n",
        "!pip install kaggle "
      ]
    },
    {
      "cell_type": "code",
      "source": [
        "from google.colab import files\n",
        "files.upload()"
      ],
      "metadata": {
        "id": "acM1oQzTUNUM",
        "colab": {
          "base_uri": "https://localhost:8080/",
          "height": 55
        },
        "outputId": "68f077cc-7513-4c7f-8c52-d17e6de90ac9"
      },
      "execution_count": null,
      "outputs": [
        {
          "output_type": "display_data",
          "data": {
            "text/plain": [
              "<IPython.core.display.HTML object>"
            ],
            "text/html": [
              "\n",
              "     <input type=\"file\" id=\"files-a9b527af-6fb0-46c6-af58-aec48cbb52ff\" name=\"files[]\" multiple disabled\n",
              "        style=\"border:none\" />\n",
              "     <output id=\"result-a9b527af-6fb0-46c6-af58-aec48cbb52ff\">\n",
              "      Upload widget is only available when the cell has been executed in the\n",
              "      current browser session. Please rerun this cell to enable.\n",
              "      </output>\n",
              "      <script>// Copyright 2017 Google LLC\n",
              "//\n",
              "// Licensed under the Apache License, Version 2.0 (the \"License\");\n",
              "// you may not use this file except in compliance with the License.\n",
              "// You may obtain a copy of the License at\n",
              "//\n",
              "//      http://www.apache.org/licenses/LICENSE-2.0\n",
              "//\n",
              "// Unless required by applicable law or agreed to in writing, software\n",
              "// distributed under the License is distributed on an \"AS IS\" BASIS,\n",
              "// WITHOUT WARRANTIES OR CONDITIONS OF ANY KIND, either express or implied.\n",
              "// See the License for the specific language governing permissions and\n",
              "// limitations under the License.\n",
              "\n",
              "/**\n",
              " * @fileoverview Helpers for google.colab Python module.\n",
              " */\n",
              "(function(scope) {\n",
              "function span(text, styleAttributes = {}) {\n",
              "  const element = document.createElement('span');\n",
              "  element.textContent = text;\n",
              "  for (const key of Object.keys(styleAttributes)) {\n",
              "    element.style[key] = styleAttributes[key];\n",
              "  }\n",
              "  return element;\n",
              "}\n",
              "\n",
              "// Max number of bytes which will be uploaded at a time.\n",
              "const MAX_PAYLOAD_SIZE = 100 * 1024;\n",
              "\n",
              "function _uploadFiles(inputId, outputId) {\n",
              "  const steps = uploadFilesStep(inputId, outputId);\n",
              "  const outputElement = document.getElementById(outputId);\n",
              "  // Cache steps on the outputElement to make it available for the next call\n",
              "  // to uploadFilesContinue from Python.\n",
              "  outputElement.steps = steps;\n",
              "\n",
              "  return _uploadFilesContinue(outputId);\n",
              "}\n",
              "\n",
              "// This is roughly an async generator (not supported in the browser yet),\n",
              "// where there are multiple asynchronous steps and the Python side is going\n",
              "// to poll for completion of each step.\n",
              "// This uses a Promise to block the python side on completion of each step,\n",
              "// then passes the result of the previous step as the input to the next step.\n",
              "function _uploadFilesContinue(outputId) {\n",
              "  const outputElement = document.getElementById(outputId);\n",
              "  const steps = outputElement.steps;\n",
              "\n",
              "  const next = steps.next(outputElement.lastPromiseValue);\n",
              "  return Promise.resolve(next.value.promise).then((value) => {\n",
              "    // Cache the last promise value to make it available to the next\n",
              "    // step of the generator.\n",
              "    outputElement.lastPromiseValue = value;\n",
              "    return next.value.response;\n",
              "  });\n",
              "}\n",
              "\n",
              "/**\n",
              " * Generator function which is called between each async step of the upload\n",
              " * process.\n",
              " * @param {string} inputId Element ID of the input file picker element.\n",
              " * @param {string} outputId Element ID of the output display.\n",
              " * @return {!Iterable<!Object>} Iterable of next steps.\n",
              " */\n",
              "function* uploadFilesStep(inputId, outputId) {\n",
              "  const inputElement = document.getElementById(inputId);\n",
              "  inputElement.disabled = false;\n",
              "\n",
              "  const outputElement = document.getElementById(outputId);\n",
              "  outputElement.innerHTML = '';\n",
              "\n",
              "  const pickedPromise = new Promise((resolve) => {\n",
              "    inputElement.addEventListener('change', (e) => {\n",
              "      resolve(e.target.files);\n",
              "    });\n",
              "  });\n",
              "\n",
              "  const cancel = document.createElement('button');\n",
              "  inputElement.parentElement.appendChild(cancel);\n",
              "  cancel.textContent = 'Cancel upload';\n",
              "  const cancelPromise = new Promise((resolve) => {\n",
              "    cancel.onclick = () => {\n",
              "      resolve(null);\n",
              "    };\n",
              "  });\n",
              "\n",
              "  // Wait for the user to pick the files.\n",
              "  const files = yield {\n",
              "    promise: Promise.race([pickedPromise, cancelPromise]),\n",
              "    response: {\n",
              "      action: 'starting',\n",
              "    }\n",
              "  };\n",
              "\n",
              "  cancel.remove();\n",
              "\n",
              "  // Disable the input element since further picks are not allowed.\n",
              "  inputElement.disabled = true;\n",
              "\n",
              "  if (!files) {\n",
              "    return {\n",
              "      response: {\n",
              "        action: 'complete',\n",
              "      }\n",
              "    };\n",
              "  }\n",
              "\n",
              "  for (const file of files) {\n",
              "    const li = document.createElement('li');\n",
              "    li.append(span(file.name, {fontWeight: 'bold'}));\n",
              "    li.append(span(\n",
              "        `(${file.type || 'n/a'}) - ${file.size} bytes, ` +\n",
              "        `last modified: ${\n",
              "            file.lastModifiedDate ? file.lastModifiedDate.toLocaleDateString() :\n",
              "                                    'n/a'} - `));\n",
              "    const percent = span('0% done');\n",
              "    li.appendChild(percent);\n",
              "\n",
              "    outputElement.appendChild(li);\n",
              "\n",
              "    const fileDataPromise = new Promise((resolve) => {\n",
              "      const reader = new FileReader();\n",
              "      reader.onload = (e) => {\n",
              "        resolve(e.target.result);\n",
              "      };\n",
              "      reader.readAsArrayBuffer(file);\n",
              "    });\n",
              "    // Wait for the data to be ready.\n",
              "    let fileData = yield {\n",
              "      promise: fileDataPromise,\n",
              "      response: {\n",
              "        action: 'continue',\n",
              "      }\n",
              "    };\n",
              "\n",
              "    // Use a chunked sending to avoid message size limits. See b/62115660.\n",
              "    let position = 0;\n",
              "    do {\n",
              "      const length = Math.min(fileData.byteLength - position, MAX_PAYLOAD_SIZE);\n",
              "      const chunk = new Uint8Array(fileData, position, length);\n",
              "      position += length;\n",
              "\n",
              "      const base64 = btoa(String.fromCharCode.apply(null, chunk));\n",
              "      yield {\n",
              "        response: {\n",
              "          action: 'append',\n",
              "          file: file.name,\n",
              "          data: base64,\n",
              "        },\n",
              "      };\n",
              "\n",
              "      let percentDone = fileData.byteLength === 0 ?\n",
              "          100 :\n",
              "          Math.round((position / fileData.byteLength) * 100);\n",
              "      percent.textContent = `${percentDone}% done`;\n",
              "\n",
              "    } while (position < fileData.byteLength);\n",
              "  }\n",
              "\n",
              "  // All done.\n",
              "  yield {\n",
              "    response: {\n",
              "      action: 'complete',\n",
              "    }\n",
              "  };\n",
              "}\n",
              "\n",
              "scope.google = scope.google || {};\n",
              "scope.google.colab = scope.google.colab || {};\n",
              "scope.google.colab._files = {\n",
              "  _uploadFiles,\n",
              "  _uploadFilesContinue,\n",
              "};\n",
              "})(self);\n",
              "</script> "
            ]
          },
          "metadata": {}
        },
        {
          "output_type": "execute_result",
          "data": {
            "text/plain": [
              "{}"
            ]
          },
          "metadata": {},
          "execution_count": 9
        }
      ]
    },
    {
      "cell_type": "code",
      "source": [
        "#Upload Your kaggle Json file\n",
        "#We configure the path of kaggle.json file\n",
        "\n",
        "!mkdir -p ~/.kaggle\n",
        "!cp kaggle.json ~/.kaggle/\n",
        "!chmod 600 ~/.kaggle/kaggle.json"
      ],
      "metadata": {
        "id": "eaYsN-yCTQbr"
      },
      "execution_count": null,
      "outputs": []
    },
    {
      "cell_type": "code",
      "source": [
        "##Importing  the dataset\n",
        "!kaggle datasets download -d grikomsn/amazon-cell-phones-reviews"
      ],
      "metadata": {
        "id": "eHQ3j24OTbBq"
      },
      "execution_count": null,
      "outputs": []
    },
    {
      "cell_type": "code",
      "source": [
        "#!pip install gensim\n"
      ],
      "metadata": {
        "id": "Il3ywYOEatvf"
      },
      "execution_count": null,
      "outputs": []
    },
    {
      "cell_type": "markdown",
      "source": [
        "### **Reading and Exploring the dataset**\n",
        "\n",
        "\n",
        "\n"
      ],
      "metadata": {
        "id": "5E7VLa5gZs32"
      }
    },
    {
      "cell_type": "markdown",
      "source": [
        "the dataset we used in our notebook is a subset of Amazon reviews from the Cell Phones category, we gonna read it using pandas.\n",
        "Link to the Dataset:\n",
        "https://www.kaggle.com/datasets/grikomsn/amazon-cell-phones-reviews/download?datasetVersionNumber=2"
      ],
      "metadata": {
        "id": "09HKYUaeaBEq"
      }
    },
    {
      "cell_type": "code",
      "source": [
        "import gensim\n",
        "import pandas as pd"
      ],
      "metadata": {
        "id": "HgP28HI8Tes3"
      },
      "execution_count": null,
      "outputs": []
    },
    {
      "cell_type": "code",
      "source": [
        "df = pd.read_csv(\"/content/Cell_Phones_reviews.csv\",delimiter =',')\n",
        "df.head()"
      ],
      "metadata": {
        "id": "BT5Cr4fhV5_F",
        "colab": {
          "base_uri": "https://localhost:8080/",
          "height": 738
        },
        "outputId": "6d45c612-3689-40c6-a211-0d82c2bc9345"
      },
      "execution_count": null,
      "outputs": [
        {
          "output_type": "execute_result",
          "data": {
            "text/plain": [
              "         asin           name  rating               date verified  \\\n",
              "0  B0000SX2UC          Janet     3.0   October 11, 2005    False   \n",
              "1  B0000SX2UC     Luke Wyatt     1.0    January 7, 2004    False   \n",
              "2  B0000SX2UC         Brooke     5.0  December 30, 2003    False   \n",
              "3  B0000SX2UC  amy m. teague     3.0     March 18, 2004    False   \n",
              "4  B0000SX2UC  tristazbimmer     4.0    August 28, 2005    False   \n",
              "\n",
              "                                          title  \\\n",
              "0                   Def not best, but not worst   \n",
              "1                   Text Messaging Doesn't Work   \n",
              "2                               Love This Phone   \n",
              "3                       Love the Phone, BUT...!   \n",
              "4  Great phone service and options, lousy case!   \n",
              "\n",
              "                                                body  helpfulVotes  \n",
              "0  I had the Samsung A600 for awhile which is abs...           1.0  \n",
              "1  Due to a software issue between Nokia and Spri...          17.0  \n",
              "2  This is a great, reliable phone. I also purcha...           5.0  \n",
              "3  I love the phone and all, because I really did...           1.0  \n",
              "4  The phone has been great for every purpose it ...           1.0  "
            ],
            "text/html": [
              "\n",
              "  <div id=\"df-27c1c615-2813-476a-aee5-be460064be6f\">\n",
              "    <div class=\"colab-df-container\">\n",
              "      <div>\n",
              "<style scoped>\n",
              "    .dataframe tbody tr th:only-of-type {\n",
              "        vertical-align: middle;\n",
              "    }\n",
              "\n",
              "    .dataframe tbody tr th {\n",
              "        vertical-align: top;\n",
              "    }\n",
              "\n",
              "    .dataframe thead th {\n",
              "        text-align: right;\n",
              "    }\n",
              "</style>\n",
              "<table border=\"1\" class=\"dataframe\">\n",
              "  <thead>\n",
              "    <tr style=\"text-align: right;\">\n",
              "      <th></th>\n",
              "      <th>asin</th>\n",
              "      <th>name</th>\n",
              "      <th>rating</th>\n",
              "      <th>date</th>\n",
              "      <th>verified</th>\n",
              "      <th>title</th>\n",
              "      <th>body</th>\n",
              "      <th>helpfulVotes</th>\n",
              "    </tr>\n",
              "  </thead>\n",
              "  <tbody>\n",
              "    <tr>\n",
              "      <th>0</th>\n",
              "      <td>B0000SX2UC</td>\n",
              "      <td>Janet</td>\n",
              "      <td>3.0</td>\n",
              "      <td>October 11, 2005</td>\n",
              "      <td>False</td>\n",
              "      <td>Def not best, but not worst</td>\n",
              "      <td>I had the Samsung A600 for awhile which is abs...</td>\n",
              "      <td>1.0</td>\n",
              "    </tr>\n",
              "    <tr>\n",
              "      <th>1</th>\n",
              "      <td>B0000SX2UC</td>\n",
              "      <td>Luke Wyatt</td>\n",
              "      <td>1.0</td>\n",
              "      <td>January 7, 2004</td>\n",
              "      <td>False</td>\n",
              "      <td>Text Messaging Doesn't Work</td>\n",
              "      <td>Due to a software issue between Nokia and Spri...</td>\n",
              "      <td>17.0</td>\n",
              "    </tr>\n",
              "    <tr>\n",
              "      <th>2</th>\n",
              "      <td>B0000SX2UC</td>\n",
              "      <td>Brooke</td>\n",
              "      <td>5.0</td>\n",
              "      <td>December 30, 2003</td>\n",
              "      <td>False</td>\n",
              "      <td>Love This Phone</td>\n",
              "      <td>This is a great, reliable phone. I also purcha...</td>\n",
              "      <td>5.0</td>\n",
              "    </tr>\n",
              "    <tr>\n",
              "      <th>3</th>\n",
              "      <td>B0000SX2UC</td>\n",
              "      <td>amy m. teague</td>\n",
              "      <td>3.0</td>\n",
              "      <td>March 18, 2004</td>\n",
              "      <td>False</td>\n",
              "      <td>Love the Phone, BUT...!</td>\n",
              "      <td>I love the phone and all, because I really did...</td>\n",
              "      <td>1.0</td>\n",
              "    </tr>\n",
              "    <tr>\n",
              "      <th>4</th>\n",
              "      <td>B0000SX2UC</td>\n",
              "      <td>tristazbimmer</td>\n",
              "      <td>4.0</td>\n",
              "      <td>August 28, 2005</td>\n",
              "      <td>False</td>\n",
              "      <td>Great phone service and options, lousy case!</td>\n",
              "      <td>The phone has been great for every purpose it ...</td>\n",
              "      <td>1.0</td>\n",
              "    </tr>\n",
              "  </tbody>\n",
              "</table>\n",
              "</div>\n",
              "      <button class=\"colab-df-convert\" onclick=\"convertToInteractive('df-27c1c615-2813-476a-aee5-be460064be6f')\"\n",
              "              title=\"Convert this dataframe to an interactive table.\"\n",
              "              style=\"display:none;\">\n",
              "        \n",
              "  <svg xmlns=\"http://www.w3.org/2000/svg\" height=\"24px\"viewBox=\"0 0 24 24\"\n",
              "       width=\"24px\">\n",
              "    <path d=\"M0 0h24v24H0V0z\" fill=\"none\"/>\n",
              "    <path d=\"M18.56 5.44l.94 2.06.94-2.06 2.06-.94-2.06-.94-.94-2.06-.94 2.06-2.06.94zm-11 1L8.5 8.5l.94-2.06 2.06-.94-2.06-.94L8.5 2.5l-.94 2.06-2.06.94zm10 10l.94 2.06.94-2.06 2.06-.94-2.06-.94-.94-2.06-.94 2.06-2.06.94z\"/><path d=\"M17.41 7.96l-1.37-1.37c-.4-.4-.92-.59-1.43-.59-.52 0-1.04.2-1.43.59L10.3 9.45l-7.72 7.72c-.78.78-.78 2.05 0 2.83L4 21.41c.39.39.9.59 1.41.59.51 0 1.02-.2 1.41-.59l7.78-7.78 2.81-2.81c.8-.78.8-2.07 0-2.86zM5.41 20L4 18.59l7.72-7.72 1.47 1.35L5.41 20z\"/>\n",
              "  </svg>\n",
              "      </button>\n",
              "      \n",
              "  <style>\n",
              "    .colab-df-container {\n",
              "      display:flex;\n",
              "      flex-wrap:wrap;\n",
              "      gap: 12px;\n",
              "    }\n",
              "\n",
              "    .colab-df-convert {\n",
              "      background-color: #E8F0FE;\n",
              "      border: none;\n",
              "      border-radius: 50%;\n",
              "      cursor: pointer;\n",
              "      display: none;\n",
              "      fill: #1967D2;\n",
              "      height: 32px;\n",
              "      padding: 0 0 0 0;\n",
              "      width: 32px;\n",
              "    }\n",
              "\n",
              "    .colab-df-convert:hover {\n",
              "      background-color: #E2EBFA;\n",
              "      box-shadow: 0px 1px 2px rgba(60, 64, 67, 0.3), 0px 1px 3px 1px rgba(60, 64, 67, 0.15);\n",
              "      fill: #174EA6;\n",
              "    }\n",
              "\n",
              "    [theme=dark] .colab-df-convert {\n",
              "      background-color: #3B4455;\n",
              "      fill: #D2E3FC;\n",
              "    }\n",
              "\n",
              "    [theme=dark] .colab-df-convert:hover {\n",
              "      background-color: #434B5C;\n",
              "      box-shadow: 0px 1px 3px 1px rgba(0, 0, 0, 0.15);\n",
              "      filter: drop-shadow(0px 1px 2px rgba(0, 0, 0, 0.3));\n",
              "      fill: #FFFFFF;\n",
              "    }\n",
              "  </style>\n",
              "\n",
              "      <script>\n",
              "        const buttonEl =\n",
              "          document.querySelector('#df-27c1c615-2813-476a-aee5-be460064be6f button.colab-df-convert');\n",
              "        buttonEl.style.display =\n",
              "          google.colab.kernel.accessAllowed ? 'block' : 'none';\n",
              "\n",
              "        async function convertToInteractive(key) {\n",
              "          const element = document.querySelector('#df-27c1c615-2813-476a-aee5-be460064be6f');\n",
              "          const dataTable =\n",
              "            await google.colab.kernel.invokeFunction('convertToInteractive',\n",
              "                                                     [key], {});\n",
              "          if (!dataTable) return;\n",
              "\n",
              "          const docLinkHtml = 'Like what you see? Visit the ' +\n",
              "            '<a target=\"_blank\" href=https://colab.research.google.com/notebooks/data_table.ipynb>data table notebook</a>'\n",
              "            + ' to learn more about interactive tables.';\n",
              "          element.innerHTML = '';\n",
              "          dataTable['output_type'] = 'display_data';\n",
              "          await google.colab.output.renderOutput(dataTable, element);\n",
              "          const docLink = document.createElement('div');\n",
              "          docLink.innerHTML = docLinkHtml;\n",
              "          element.appendChild(docLink);\n",
              "        }\n",
              "      </script>\n",
              "    </div>\n",
              "  </div>\n",
              "  "
            ]
          },
          "metadata": {},
          "execution_count": 14
        }
      ]
    },
    {
      "cell_type": "markdown",
      "source": [
        "We will train a word2vec model using only the column \"body\" as we can also use the \"title\", we can delete some unecessary columns or just ignore them"
      ],
      "metadata": {
        "id": "otqkKzmMce9A"
      }
    },
    {
      "cell_type": "code",
      "source": [
        "df.body[0]"
      ],
      "metadata": {
        "colab": {
          "base_uri": "https://localhost:8080/",
          "height": 258
        },
        "id": "c9rwmHRNdYcw",
        "outputId": "229d0601-c691-446b-e55c-ba1bb1ecbef8"
      },
      "execution_count": null,
      "outputs": [
        {
          "output_type": "execute_result",
          "data": {
            "text/plain": [
              "\"I had the Samsung A600 for awhile which is absolute doo doo. You can read my review on it and detect my rage at the stupid thing. It finally died on me so I used this Nokia phone I bought in a garage sale for $1. I wonder y she sold it so cheap?... Bad: ===> I hate the menu. It takes forever to get to what you want because you have to scroll endlessly. Usually phones have numbered categories so u can simply press the # and get where you want to go. ===> It's a pain to put it on silent or vibrate. If you're in class and it rings, you have to turn it off immediately. There's no fast way to silence the damn thing. Always remember to put it on silent! I learned that the hard way. ===> It's so true about the case. It's a mission to get off and will break ur nails in the process. Also, you'll damage the case each time u try. For some reason the phone started giving me problems once I did succeed in opening it. ===> Buttons could be a bit bigger. Vibration could be stronger. Good: ===> Reception is not too shabby. I was using it in the elevator which is a remarkable feat considering my old phone would lose service by simply putting it in my pocket. ===> Compared to my old Samsung, this phone works quite well. The ring tones are loud enough to hear and the phone actually charges quickly and has great battery life. It doesn't heat up like a potatoe in the oven either during long phone convos. ===> Nice bright, large screen. ===> Cute ways to customize it. Scroll bar can be set to purple, pink, aqua, orange, etc. Overall: Okay phone. It serves its purpose but definitely pales in comparison to these new phones coming out from Sprint. Why get so so when you can get great?\""
            ],
            "application/vnd.google.colaboratory.intrinsic+json": {
              "type": "string"
            }
          },
          "metadata": {},
          "execution_count": 15
        }
      ]
    },
    {
      "cell_type": "code",
      "source": [
        "df.shape"
      ],
      "metadata": {
        "colab": {
          "base_uri": "https://localhost:8080/"
        },
        "id": "IPD0fZNodR-n",
        "outputId": "ae17fee2-e2bd-4582-d0e3-12e543131db3"
      },
      "execution_count": null,
      "outputs": [
        {
          "output_type": "execute_result",
          "data": {
            "text/plain": [
              "(23423, 8)"
            ]
          },
          "metadata": {},
          "execution_count": 16
        }
      ]
    },
    {
      "cell_type": "markdown",
      "source": [
        "### **Simple Preprocessing**"
      ],
      "metadata": {
        "id": "TDoxucaOoWzc"
      }
    },
    {
      "cell_type": "markdown",
      "source": [
        "this simple function in gensim libray can do some basic preprocessing operations like converting all the words to lower case, trimming spaces, removing punctuations and stop words for our first review as an example to show you "
      ],
      "metadata": {
        "id": "nhDuPG8od4bu"
      }
    },
    {
      "cell_type": "code",
      "source": [
        "gensim.utils.simple_preprocess(\"I had the Samsung A600 for awhile which is absolute doo doo. You can read my review on it and detect my rage at the stupid thing. It finally died on me so I used this Nokia phone I bought in a garage sale for $1. I wonder y she sold it so cheap?... Bad: ===> I hate the menu. It takes forever to get to what you want because you have to scroll endlessly. Usually phones have numbered categories so u can simply press the # and get where you want to go. ===> It's a pain to put it on silent or vibrate. If you're in class and it rings, you have to turn it off immediately. There's no fast way to silence the damn thing. Always remember to put it on silent! I learned that the hard way. ===> It's so true about the case. It's a mission to get off and will break ur nails in the process. Also, you'll damage the case each time u try. For some reason the phone started giving me problems once I did succeed in opening it. ===> Buttons could be a bit bigger. Vibration could be stronger. Good: ===> Reception is not too shabby. I was using it in the elevator which is a remarkable feat considering my old phone would lose service by simply putting it in my pocket. ===> Compared to my old Samsung, this phone works quite well. The ring tones are loud enough to hear and the phone actually charges quickly and has great battery life. It doesn't heat up like a potatoe in the oven either during long phone convos. ===> Nice bright, large screen. ===> Cute ways to customize it. Scroll bar can be set to purple, pink, aqua, orange, etc. Overall: Okay phone. It serves its purpose but definitely pales in comparison to these new phones coming out from Sprint. Why get so so when you can get great?\")"
      ],
      "metadata": {
        "colab": {
          "base_uri": "https://localhost:8080/"
        },
        "id": "SHAn38ZGcVc8",
        "outputId": "e9735fbd-5ac8-4345-dec3-8dffd404ca56"
      },
      "execution_count": null,
      "outputs": [
        {
          "output_type": "execute_result",
          "data": {
            "text/plain": [
              "['had',\n",
              " 'the',\n",
              " 'samsung',\n",
              " 'for',\n",
              " 'awhile',\n",
              " 'which',\n",
              " 'is',\n",
              " 'absolute',\n",
              " 'doo',\n",
              " 'doo',\n",
              " 'you',\n",
              " 'can',\n",
              " 'read',\n",
              " 'my',\n",
              " 'review',\n",
              " 'on',\n",
              " 'it',\n",
              " 'and',\n",
              " 'detect',\n",
              " 'my',\n",
              " 'rage',\n",
              " 'at',\n",
              " 'the',\n",
              " 'stupid',\n",
              " 'thing',\n",
              " 'it',\n",
              " 'finally',\n",
              " 'died',\n",
              " 'on',\n",
              " 'me',\n",
              " 'so',\n",
              " 'used',\n",
              " 'this',\n",
              " 'nokia',\n",
              " 'phone',\n",
              " 'bought',\n",
              " 'in',\n",
              " 'garage',\n",
              " 'sale',\n",
              " 'for',\n",
              " 'wonder',\n",
              " 'she',\n",
              " 'sold',\n",
              " 'it',\n",
              " 'so',\n",
              " 'cheap',\n",
              " 'bad',\n",
              " 'hate',\n",
              " 'the',\n",
              " 'menu',\n",
              " 'it',\n",
              " 'takes',\n",
              " 'forever',\n",
              " 'to',\n",
              " 'get',\n",
              " 'to',\n",
              " 'what',\n",
              " 'you',\n",
              " 'want',\n",
              " 'because',\n",
              " 'you',\n",
              " 'have',\n",
              " 'to',\n",
              " 'scroll',\n",
              " 'endlessly',\n",
              " 'usually',\n",
              " 'phones',\n",
              " 'have',\n",
              " 'numbered',\n",
              " 'categories',\n",
              " 'so',\n",
              " 'can',\n",
              " 'simply',\n",
              " 'press',\n",
              " 'the',\n",
              " 'and',\n",
              " 'get',\n",
              " 'where',\n",
              " 'you',\n",
              " 'want',\n",
              " 'to',\n",
              " 'go',\n",
              " 'it',\n",
              " 'pain',\n",
              " 'to',\n",
              " 'put',\n",
              " 'it',\n",
              " 'on',\n",
              " 'silent',\n",
              " 'or',\n",
              " 'vibrate',\n",
              " 'if',\n",
              " 'you',\n",
              " 're',\n",
              " 'in',\n",
              " 'class',\n",
              " 'and',\n",
              " 'it',\n",
              " 'rings',\n",
              " 'you',\n",
              " 'have',\n",
              " 'to',\n",
              " 'turn',\n",
              " 'it',\n",
              " 'off',\n",
              " 'immediately',\n",
              " 'there',\n",
              " 'no',\n",
              " 'fast',\n",
              " 'way',\n",
              " 'to',\n",
              " 'silence',\n",
              " 'the',\n",
              " 'damn',\n",
              " 'thing',\n",
              " 'always',\n",
              " 'remember',\n",
              " 'to',\n",
              " 'put',\n",
              " 'it',\n",
              " 'on',\n",
              " 'silent',\n",
              " 'learned',\n",
              " 'that',\n",
              " 'the',\n",
              " 'hard',\n",
              " 'way',\n",
              " 'it',\n",
              " 'so',\n",
              " 'true',\n",
              " 'about',\n",
              " 'the',\n",
              " 'case',\n",
              " 'it',\n",
              " 'mission',\n",
              " 'to',\n",
              " 'get',\n",
              " 'off',\n",
              " 'and',\n",
              " 'will',\n",
              " 'break',\n",
              " 'ur',\n",
              " 'nails',\n",
              " 'in',\n",
              " 'the',\n",
              " 'process',\n",
              " 'also',\n",
              " 'you',\n",
              " 'll',\n",
              " 'damage',\n",
              " 'the',\n",
              " 'case',\n",
              " 'each',\n",
              " 'time',\n",
              " 'try',\n",
              " 'for',\n",
              " 'some',\n",
              " 'reason',\n",
              " 'the',\n",
              " 'phone',\n",
              " 'started',\n",
              " 'giving',\n",
              " 'me',\n",
              " 'problems',\n",
              " 'once',\n",
              " 'did',\n",
              " 'succeed',\n",
              " 'in',\n",
              " 'opening',\n",
              " 'it',\n",
              " 'buttons',\n",
              " 'could',\n",
              " 'be',\n",
              " 'bit',\n",
              " 'bigger',\n",
              " 'vibration',\n",
              " 'could',\n",
              " 'be',\n",
              " 'stronger',\n",
              " 'good',\n",
              " 'reception',\n",
              " 'is',\n",
              " 'not',\n",
              " 'too',\n",
              " 'shabby',\n",
              " 'was',\n",
              " 'using',\n",
              " 'it',\n",
              " 'in',\n",
              " 'the',\n",
              " 'elevator',\n",
              " 'which',\n",
              " 'is',\n",
              " 'remarkable',\n",
              " 'feat',\n",
              " 'considering',\n",
              " 'my',\n",
              " 'old',\n",
              " 'phone',\n",
              " 'would',\n",
              " 'lose',\n",
              " 'service',\n",
              " 'by',\n",
              " 'simply',\n",
              " 'putting',\n",
              " 'it',\n",
              " 'in',\n",
              " 'my',\n",
              " 'pocket',\n",
              " 'compared',\n",
              " 'to',\n",
              " 'my',\n",
              " 'old',\n",
              " 'samsung',\n",
              " 'this',\n",
              " 'phone',\n",
              " 'works',\n",
              " 'quite',\n",
              " 'well',\n",
              " 'the',\n",
              " 'ring',\n",
              " 'tones',\n",
              " 'are',\n",
              " 'loud',\n",
              " 'enough',\n",
              " 'to',\n",
              " 'hear',\n",
              " 'and',\n",
              " 'the',\n",
              " 'phone',\n",
              " 'actually',\n",
              " 'charges',\n",
              " 'quickly',\n",
              " 'and',\n",
              " 'has',\n",
              " 'great',\n",
              " 'battery',\n",
              " 'life',\n",
              " 'it',\n",
              " 'doesn',\n",
              " 'heat',\n",
              " 'up',\n",
              " 'like',\n",
              " 'potatoe',\n",
              " 'in',\n",
              " 'the',\n",
              " 'oven',\n",
              " 'either',\n",
              " 'during',\n",
              " 'long',\n",
              " 'phone',\n",
              " 'convos',\n",
              " 'nice',\n",
              " 'bright',\n",
              " 'large',\n",
              " 'screen',\n",
              " 'cute',\n",
              " 'ways',\n",
              " 'to',\n",
              " 'customize',\n",
              " 'it',\n",
              " 'scroll',\n",
              " 'bar',\n",
              " 'can',\n",
              " 'be',\n",
              " 'set',\n",
              " 'to',\n",
              " 'purple',\n",
              " 'pink',\n",
              " 'aqua',\n",
              " 'orange',\n",
              " 'etc',\n",
              " 'overall',\n",
              " 'okay',\n",
              " 'phone',\n",
              " 'it',\n",
              " 'serves',\n",
              " 'its',\n",
              " 'purpose',\n",
              " 'but',\n",
              " 'definitely',\n",
              " 'pales',\n",
              " 'in',\n",
              " 'comparison',\n",
              " 'to',\n",
              " 'these',\n",
              " 'new',\n",
              " 'phones',\n",
              " 'coming',\n",
              " 'out',\n",
              " 'from',\n",
              " 'sprint',\n",
              " 'why',\n",
              " 'get',\n",
              " 'so',\n",
              " 'so',\n",
              " 'when',\n",
              " 'you',\n",
              " 'can',\n",
              " 'get',\n",
              " 'great']"
            ]
          },
          "metadata": {},
          "execution_count": 17
        }
      ]
    },
    {
      "cell_type": "markdown",
      "source": [
        "Now we gonna apply it to the entire body column"
      ],
      "metadata": {
        "id": "iPnwDcHWeoVR"
      }
    },
    {
      "cell_type": "code",
      "source": [
        "review_text = df.body.astype(str).apply(gensim.utils.simple_preprocess)"
      ],
      "metadata": {
        "id": "tST7vQ3XcVis"
      },
      "execution_count": 92,
      "outputs": []
    },
    {
      "cell_type": "code",
      "source": [
        "# We might have to delete stop words\n",
        "import nltk\n",
        "nltk.download('stopwords')\n",
        "from nltk.corpus import stopwords\n",
        "\n",
        "# Assuming review_text is a Pandas Series object\n",
        "stopwords_set = set(stopwords.words('english'))\n",
        "review_text = review_text.apply(lambda x: [word for word in x if word not in stopwords_set])\n",
        "review_text = review_text.apply(lambda x: \" \".join(x))\n"
      ],
      "metadata": {
        "colab": {
          "base_uri": "https://localhost:8080/"
        },
        "id": "KKijJ28mukqu",
        "outputId": "f8eea901-6309-4203-9bfb-4ac6db85a251"
      },
      "execution_count": 93,
      "outputs": [
        {
          "output_type": "stream",
          "name": "stderr",
          "text": [
            "[nltk_data] Downloading package stopwords to /root/nltk_data...\n",
            "[nltk_data]   Package stopwords is already up-to-date!\n"
          ]
        }
      ]
    },
    {
      "cell_type": "code",
      "source": [
        "review_text"
      ],
      "metadata": {
        "colab": {
          "base_uri": "https://localhost:8080/"
        },
        "id": "CU-lqHYwwpp3",
        "outputId": "67a008b7-3821-4b8a-d05b-05417d5bef42"
      },
      "execution_count": 94,
      "outputs": [
        {
          "output_type": "execute_result",
          "data": {
            "text/plain": [
              "0        samsung awhile absolute doo doo read review de...\n",
              "1        due software issue nokia sprint phone text mes...\n",
              "2        great reliable phone also purchased phone sams...\n",
              "3        love phone really need one expect price bill r...\n",
              "4        phone great every purpose offers except day bo...\n",
              "                               ...                        \n",
              "23418                                             unlocked\n",
              "23419                         gift friend loved thank much\n",
              "23420                         phone great like great phone\n",
              "23421    mobile described good condition came generic c...\n",
              "23422                                                  nan\n",
              "Name: body, Length: 23423, dtype: object"
            ]
          },
          "metadata": {},
          "execution_count": 94
        }
      ]
    },
    {
      "cell_type": "code",
      "source": [
        "review_text = review_text.astype(str).apply(gensim.utils.simple_preprocess)"
      ],
      "metadata": {
        "id": "BUCav-FsxLK0"
      },
      "execution_count": 95,
      "outputs": []
    },
    {
      "cell_type": "code",
      "source": [
        "review_text"
      ],
      "metadata": {
        "colab": {
          "base_uri": "https://localhost:8080/"
        },
        "id": "9dfwjdVcxNLH",
        "outputId": "ce2276ee-fd9f-436b-c7b7-2cab34ac0116"
      },
      "execution_count": 96,
      "outputs": [
        {
          "output_type": "execute_result",
          "data": {
            "text/plain": [
              "0        [samsung, awhile, absolute, doo, doo, read, re...\n",
              "1        [due, software, issue, nokia, sprint, phone, t...\n",
              "2        [great, reliable, phone, also, purchased, phon...\n",
              "3        [love, phone, really, need, one, expect, price...\n",
              "4        [phone, great, every, purpose, offers, except,...\n",
              "                               ...                        \n",
              "23418                                           [unlocked]\n",
              "23419                   [gift, friend, loved, thank, much]\n",
              "23420                   [phone, great, like, great, phone]\n",
              "23421    [mobile, described, good, condition, came, gen...\n",
              "23422                                                [nan]\n",
              "Name: body, Length: 23423, dtype: object"
            ]
          },
          "metadata": {},
          "execution_count": 96
        }
      ]
    },
    {
      "cell_type": "markdown",
      "source": [
        "We created a pandas seriesn, each object in those series is a list of tokenized words "
      ],
      "metadata": {
        "id": "WHTamAjXgx4q"
      }
    },
    {
      "cell_type": "markdown",
      "source": [
        "###  **Training the model**"
      ],
      "metadata": {
        "id": "UkJjdCVNokV2"
      }
    },
    {
      "cell_type": "markdown",
      "source": [
        "Now we gonna create our model, and those are the hyperparameters we will use:\n",
        "\n",
        "\n",
        "\n",
        "*   Dimensionality of the feature vector is 100 (by default)\n",
        "\n",
        "*   The maximum distance between analyzed words within a sentence is 10.\n",
        "\n",
        "*   Ignores all words with the total \n",
        "frequency lower than 2 per corpus.\n",
        "\n"
      ],
      "metadata": {
        "id": "N5RIBE4thkUM"
      }
    },
    {
      "cell_type": "code",
      "source": [
        "model = gensim.models.Word2Vec(window = 10, min_count = 2, workers = 4)"
      ],
      "metadata": {
        "id": "w1PGJ3qxeVUZ"
      },
      "execution_count": 97,
      "outputs": []
    },
    {
      "cell_type": "code",
      "source": [
        "model.vector_size"
      ],
      "metadata": {
        "colab": {
          "base_uri": "https://localhost:8080/"
        },
        "id": "qR5_Sc5LsYp2",
        "outputId": "8b52ac68-1ba1-4885-af12-31286ed625c9"
      },
      "execution_count": 98,
      "outputs": [
        {
          "output_type": "execute_result",
          "data": {
            "text/plain": [
              "100"
            ]
          },
          "metadata": {},
          "execution_count": 98
        }
      ]
    },
    {
      "cell_type": "code",
      "source": [
        "#building vocabulary\n",
        "model.build_vocab(review_text, progress_per=100)"
      ],
      "metadata": {
        "id": "YZiORJ25gs_9"
      },
      "execution_count": 99,
      "outputs": []
    },
    {
      "cell_type": "code",
      "source": [
        "model.corpus_count"
      ],
      "metadata": {
        "colab": {
          "base_uri": "https://localhost:8080/"
        },
        "id": "Rl3jGsWSipU4",
        "outputId": "583af18a-bd1f-4bfc-df63-da96301c66c1"
      },
      "execution_count": 100,
      "outputs": [
        {
          "output_type": "execute_result",
          "data": {
            "text/plain": [
              "23423"
            ]
          },
          "metadata": {},
          "execution_count": 100
        }
      ]
    },
    {
      "cell_type": "code",
      "source": [
        "#training the model\n",
        "model.train(review_text, total_examples= model.corpus_count, epochs =model.epochs)"
      ],
      "metadata": {
        "colab": {
          "base_uri": "https://localhost:8080/"
        },
        "id": "FKm9IrHUgtLc",
        "outputId": "0828e79a-3f7e-4b6a-e429-37b2cd83e181"
      },
      "execution_count": 101,
      "outputs": [
        {
          "output_type": "execute_result",
          "data": {
            "text/plain": [
              "(3089897, 3499570)"
            ]
          },
          "metadata": {},
          "execution_count": 101
        }
      ]
    },
    {
      "cell_type": "markdown",
      "source": [
        "  Let's evaluate our model by doing some some similarities"
      ],
      "metadata": {
        "id": "oU6JmLpnjU5q"
      }
    },
    {
      "cell_type": "code",
      "source": [
        "model.wv.most_similar(\"bad\")"
      ],
      "metadata": {
        "colab": {
          "base_uri": "https://localhost:8080/"
        },
        "id": "8iDN_s9mjBsc",
        "outputId": "e40aca7b-0477-4db0-cf01-4e60ed306a61"
      },
      "execution_count": 102,
      "outputs": [
        {
          "output_type": "execute_result",
          "data": {
            "text/plain": [
              "[('terrible', 0.7594252824783325),\n",
              " ('horrible', 0.746745765209198),\n",
              " ('sucks', 0.7050692439079285),\n",
              " ('piece', 0.6953699588775635),\n",
              " ('worse', 0.6843675374984741),\n",
              " ('buzzing', 0.6816175580024719),\n",
              " ('okay', 0.6710017919540405),\n",
              " ('awful', 0.6526092290878296),\n",
              " ('flies', 0.6492034792900085),\n",
              " ('garbage', 0.6446134448051453)]"
            ]
          },
          "metadata": {},
          "execution_count": 102
        }
      ]
    },
    {
      "cell_type": "code",
      "source": [
        "#We could see similarity between two words\n",
        "model.wv.similarity(w1= \"cheap\", w2 = \"inexpensive\")"
      ],
      "metadata": {
        "colab": {
          "base_uri": "https://localhost:8080/"
        },
        "id": "_Rh3nrWHjB7z",
        "outputId": "97f65abf-2447-47ea-984d-1664f5511193"
      },
      "execution_count": 103,
      "outputs": [
        {
          "output_type": "execute_result",
          "data": {
            "text/plain": [
              "0.67869323"
            ]
          },
          "metadata": {},
          "execution_count": 103
        }
      ]
    },
    {
      "cell_type": "code",
      "source": [
        "model.wv.similarity(w1= \"good\", w2 = \"great\")"
      ],
      "metadata": {
        "colab": {
          "base_uri": "https://localhost:8080/"
        },
        "id": "z2LXSN4tj7IM",
        "outputId": "90dccc79-4ade-4e18-9292-071a83778ac1"
      },
      "execution_count": 104,
      "outputs": [
        {
          "output_type": "execute_result",
          "data": {
            "text/plain": [
              "0.8413618"
            ]
          },
          "metadata": {},
          "execution_count": 104
        }
      ]
    },
    {
      "cell_type": "code",
      "source": [
        "model.wv.similarity(w1= \"cheap\", w2 = \"inexpensive\")"
      ],
      "metadata": {
        "id": "vem5pqi2kPhs",
        "colab": {
          "base_uri": "https://localhost:8080/"
        },
        "outputId": "b3b12e9f-c7e3-4e9f-d4cd-7a8c26e13a9d"
      },
      "execution_count": 105,
      "outputs": [
        {
          "output_type": "execute_result",
          "data": {
            "text/plain": [
              "0.67869323"
            ]
          },
          "metadata": {},
          "execution_count": 105
        }
      ]
    },
    {
      "cell_type": "code",
      "source": [
        "model.wv.similarity(w1= \"great\", w2 = \"product\")"
      ],
      "metadata": {
        "colab": {
          "base_uri": "https://localhost:8080/"
        },
        "id": "mp6W6ny7npPW",
        "outputId": "7c6a0819-e718-407f-f382-1ad7d11b89e6"
      },
      "execution_count": 106,
      "outputs": [
        {
          "output_type": "execute_result",
          "data": {
            "text/plain": [
              "-0.051025692"
            ]
          },
          "metadata": {},
          "execution_count": 106
        }
      ]
    },
    {
      "cell_type": "code",
      "source": [
        "# we save our model to use it for visulization\n",
        "model.save(\"/content/amazon_reviews_word2vec.model\")"
      ],
      "metadata": {
        "id": "W0vG8hNYxJIH"
      },
      "execution_count": 107,
      "outputs": []
    },
    {
      "cell_type": "markdown",
      "source": [
        "we could easily conduct that our Word2Vec model is an efficient predictive model for locating words that share common contexts in a training corpus"
      ],
      "metadata": {
        "id": "cvM_xItQrWr_"
      }
    },
    {
      "cell_type": "markdown",
      "source": [
        "### **Visualizing Word2Vec with t-SNE**"
      ],
      "metadata": {
        "id": "1Az2Ze2HqOq6"
      }
    },
    {
      "cell_type": "markdown",
      "source": [
        "The word embeddings made by the model can be visualised by reducing dimensionality of the words to 2 dimensions using tSNE"
      ],
      "metadata": {
        "id": "Q7Ro0bJ0poJd"
      }
    },
    {
      "cell_type": "markdown",
      "source": [
        "The visulaization can be useful to understand how Word2Vec works and how to intrepret relations between vectors captured from our text"
      ],
      "metadata": {
        "id": "i-xTWJB5qrdt"
      }
    },
    {
      "cell_type": "code",
      "source": [
        "# Need to import some libraries\n",
        "from gensim.models.word2vec import Word2Vec\n",
        "from sklearn.decomposition import PCA\n",
        "import matplotlib.pyplot as plt"
      ],
      "metadata": {
        "id": "OQL299u0o6qQ"
      },
      "execution_count": 108,
      "outputs": []
    },
    {
      "cell_type": "code",
      "source": [
        "# We load our model\n",
        "model = Word2Vec.load(\"/content/amazon_reviews_word2vec.model\")"
      ],
      "metadata": {
        "id": "ZDRH9sj7oMU2"
      },
      "execution_count": 81,
      "outputs": []
    },
    {
      "cell_type": "markdown",
      "source": [
        "I found in this blog: https://soumilshah1995.blogspot.com/2020/05/gensim-word2vec-visualization-helper.html a class that simplify the plotting for us"
      ],
      "metadata": {
        "id": "wlPqoLN4qO32"
      }
    },
    {
      "cell_type": "markdown",
      "source": [
        "**The class**"
      ],
      "metadata": {
        "id": "BZWdj7LbqrSB"
      }
    },
    {
      "cell_type": "code",
      "source": [
        "from sklearn.decomposition import PCA\n",
        "import pandas as pd\n",
        "import os\n",
        "import numpy as np\n",
        "from gensim.models import Word2Vec\n",
        "\n",
        "class GensimWord2vecPlotter(object):\n",
        "\n",
        "    __slots__ = [\"model\", \"words\", \"result\", \"_tem\"]\n",
        "\n",
        "    def __init__(self, model):\n",
        "        self.model = model\n",
        "        self.words = None\n",
        "        self.result = None\n",
        "        self._tem = self.preprocess()\n",
        "\n",
        "    def plot_scatter_words(self, Size=80):\n",
        "        SIZE = Size\n",
        "        words = self.words\n",
        "        result = self.result\n",
        "\n",
        "        for i, word in enumerate(words):\n",
        "            if i == SIZE:\n",
        "                break\n",
        "            \n",
        "            plt.annotate(word,\n",
        "                         xy=(result[i, 0], result[i, 1]),\n",
        "                         horizontalalignment='left',verticalalignment='bottom')\n",
        "\n",
        "        plt.scatter(result[:SIZE, 0], result[:SIZE, 1], s=(40,))\n",
        "        plt.title(\"Word Embeddings\")\n",
        "        plt.grid(False, alpha=1)\n",
        "        plt.legend()\n",
        "        plt.show()\n",
        "\n",
        "    def preprocess(self):\n",
        "        \"\"\"\n",
        "        Preprocessing sets all the variables in the constructor\n",
        "        :return: None\n",
        "        \"\"\"\n",
        "        model = self.model.wv\n",
        "        X = np.array([model.get_vector(word) for word in model.index_to_key])\n",
        "        pca = PCA(n_components=2)\n",
        "        result = pca.fit_transform(X)\n",
        "        words = model.index_to_key\n",
        "        self.words = words\n",
        "        self.result = result\n",
        "\n",
        "    def getPandasDF(self):\n",
        "        result = self.result\n",
        "        words = self.words\n",
        "        \n",
        "        x = [result[i, 0] for i in range(len(words))]\n",
        "        y = [result[i, 1] for i in range(len(words))]\n",
        "\n",
        "        wordsdf = pd.DataFrame(data={\n",
        "            \"words\": words,\n",
        "            \"x\": x,\n",
        "            \"y\": y\n",
        "        })\n",
        "\n",
        "        return wordsdf\n",
        "\n",
        "    def plot_scatter(self):\n",
        "        result = self.result\n",
        "        words = self.words\n",
        "\n",
        "        x = [result[i, 0] for i in range(len(words))]\n",
        "        y = [result[i, 1] for i in range(len(words))]\n",
        "\n",
        "        wordsdf = pd.DataFrame(data={\n",
        "            \"words\": words,\n",
        "            \"x\": x,\n",
        "            \"y\": y\n",
        "        })\n",
        "        wordsdf.plot.scatter(\"x\", \"y\", s=10, figsize=(20, 12))\n"
      ],
      "metadata": {
        "id": "85sWgyi3qtpC"
      },
      "execution_count": 109,
      "outputs": []
    },
    {
      "cell_type": "code",
      "source": [
        "# Create an instance of the class\n",
        "vis = GensimWord2vecPlotter(model=model)"
      ],
      "metadata": {
        "id": "N5025WIIoNbh"
      },
      "execution_count": 110,
      "outputs": []
    },
    {
      "cell_type": "code",
      "source": [
        "vis.plot_scatter()"
      ],
      "metadata": {
        "colab": {
          "base_uri": "https://localhost:8080/",
          "height": 404
        },
        "id": "wC0XpFposRyY",
        "outputId": "3da9ea6f-80d7-42f0-fdda-2caa99a6624d"
      },
      "execution_count": 111,
      "outputs": [
        {
          "output_type": "display_data",
          "data": {
            "text/plain": [
              "<Figure size 2000x1200 with 1 Axes>"
            ],
            "image/png": "[encoded data removed]"
          },
          "metadata": {}
        }
      ]
    },
    {
      "cell_type": "code",
      "source": [
        "vis.plot_scatter_words(Size=30)"
      ],
      "metadata": {
        "colab": {
          "base_uri": "https://localhost:8080/",
          "height": 527
        },
        "id": "TB-Uvxhosjvs",
        "outputId": "0afeb12c-ed0e-4557-b8fa-c7aee8c60134"
      },
      "execution_count": 112,
      "outputs": [
        {
          "output_type": "stream",
          "name": "stderr",
          "text": [
            "<ipython-input-109-38e8e2c15f18>:32: UserWarning: First parameter to grid() is false, but line properties are supplied. The grid will be enabled.\n",
            "  plt.grid(False, alpha=1)\n",
            "WARNING:matplotlib.legend:No artists with labels found to put in legend.  Note that artists whose label start with an underscore are ignored when legend() is called with no argument.\n"
          ]
        },
        {
          "output_type": "display_data",
          "data": {
            "text/plain": [
              "<Figure size 640x480 with 1 Axes>"
            ],
            "image/png": "[encoded data removed]"
          },
          "metadata": {}
        }
      ]
    },
    {
      "cell_type": "code",
      "source": [
        "vis.getPandasDF().head(5)"
      ],
      "metadata": {
        "colab": {
          "base_uri": "https://localhost:8080/",
          "height": 206
        },
        "id": "o94JmRiStmeh",
        "outputId": "f0d00c5a-cfad-4067-8601-bd3c17e35182"
      },
      "execution_count": 113,
      "outputs": [
        {
          "output_type": "execute_result",
          "data": {
            "text/plain": [
              "    words         x         y\n",
              "0   phone -0.989673  1.384822\n",
              "1   great  2.271687 -1.970665\n",
              "2     one -0.463404  1.254625\n",
              "3    good  2.000861 -1.739961\n",
              "4  screen  4.898848 -2.054448"
            ],
            "text/html": [
              "\n",
              "  <div id=\"df-9359dde8-9c16-433b-b940-9885bb3f9d60\">\n",
              "    <div class=\"colab-df-container\">\n",
              "      <div>\n",
              "<style scoped>\n",
              "    .dataframe tbody tr th:only-of-type {\n",
              "        vertical-align: middle;\n",
              "    }\n",
              "\n",
              "    .dataframe tbody tr th {\n",
              "        vertical-align: top;\n",
              "    }\n",
              "\n",
              "    .dataframe thead th {\n",
              "        text-align: right;\n",
              "    }\n",
              "</style>\n",
              "<table border=\"1\" class=\"dataframe\">\n",
              "  <thead>\n",
              "    <tr style=\"text-align: right;\">\n",
              "      <th></th>\n",
              "      <th>words</th>\n",
              "      <th>x</th>\n",
              "      <th>y</th>\n",
              "    </tr>\n",
              "  </thead>\n",
              "  <tbody>\n",
              "    <tr>\n",
              "      <th>0</th>\n",
              "      <td>phone</td>\n",
              "      <td>-0.989673</td>\n",
              "      <td>1.384822</td>\n",
              "    </tr>\n",
              "    <tr>\n",
              "      <th>1</th>\n",
              "      <td>great</td>\n",
              "      <td>2.271687</td>\n",
              "      <td>-1.970665</td>\n",
              "    </tr>\n",
              "    <tr>\n",
              "      <th>2</th>\n",
              "      <td>one</td>\n",
              "      <td>-0.463404</td>\n",
              "      <td>1.254625</td>\n",
              "    </tr>\n",
              "    <tr>\n",
              "      <th>3</th>\n",
              "      <td>good</td>\n",
              "      <td>2.000861</td>\n",
              "      <td>-1.739961</td>\n",
              "    </tr>\n",
              "    <tr>\n",
              "      <th>4</th>\n",
              "      <td>screen</td>\n",
              "      <td>4.898848</td>\n",
              "      <td>-2.054448</td>\n",
              "    </tr>\n",
              "  </tbody>\n",
              "</table>\n",
              "</div>\n",
              "      <button class=\"colab-df-convert\" onclick=\"convertToInteractive('df-9359dde8-9c16-433b-b940-9885bb3f9d60')\"\n",
              "              title=\"Convert this dataframe to an interactive table.\"\n",
              "              style=\"display:none;\">\n",
              "        \n",
              "  <svg xmlns=\"http://www.w3.org/2000/svg\" height=\"24px\"viewBox=\"0 0 24 24\"\n",
              "       width=\"24px\">\n",
              "    <path d=\"M0 0h24v24H0V0z\" fill=\"none\"/>\n",
              "    <path d=\"M18.56 5.44l.94 2.06.94-2.06 2.06-.94-2.06-.94-.94-2.06-.94 2.06-2.06.94zm-11 1L8.5 8.5l.94-2.06 2.06-.94-2.06-.94L8.5 2.5l-.94 2.06-2.06.94zm10 10l.94 2.06.94-2.06 2.06-.94-2.06-.94-.94-2.06-.94 2.06-2.06.94z\"/><path d=\"M17.41 7.96l-1.37-1.37c-.4-.4-.92-.59-1.43-.59-.52 0-1.04.2-1.43.59L10.3 9.45l-7.72 7.72c-.78.78-.78 2.05 0 2.83L4 21.41c.39.39.9.59 1.41.59.51 0 1.02-.2 1.41-.59l7.78-7.78 2.81-2.81c.8-.78.8-2.07 0-2.86zM5.41 20L4 18.59l7.72-7.72 1.47 1.35L5.41 20z\"/>\n",
              "  </svg>\n",
              "      </button>\n",
              "      \n",
              "  <style>\n",
              "    .colab-df-container {\n",
              "      display:flex;\n",
              "      flex-wrap:wrap;\n",
              "      gap: 12px;\n",
              "    }\n",
              "\n",
              "    .colab-df-convert {\n",
              "      background-color: #E8F0FE;\n",
              "      border: none;\n",
              "      border-radius: 50%;\n",
              "      cursor: pointer;\n",
              "      display: none;\n",
              "      fill: #1967D2;\n",
              "      height: 32px;\n",
              "      padding: 0 0 0 0;\n",
              "      width: 32px;\n",
              "    }\n",
              "\n",
              "    .colab-df-convert:hover {\n",
              "      background-color: #E2EBFA;\n",
              "      box-shadow: 0px 1px 2px rgba(60, 64, 67, 0.3), 0px 1px 3px 1px rgba(60, 64, 67, 0.15);\n",
              "      fill: #174EA6;\n",
              "    }\n",
              "\n",
              "    [theme=dark] .colab-df-convert {\n",
              "      background-color: #3B4455;\n",
              "      fill: #D2E3FC;\n",
              "    }\n",
              "\n",
              "    [theme=dark] .colab-df-convert:hover {\n",
              "      background-color: #434B5C;\n",
              "      box-shadow: 0px 1px 3px 1px rgba(0, 0, 0, 0.15);\n",
              "      filter: drop-shadow(0px 1px 2px rgba(0, 0, 0, 0.3));\n",
              "      fill: #FFFFFF;\n",
              "    }\n",
              "  </style>\n",
              "\n",
              "      <script>\n",
              "        const buttonEl =\n",
              "          document.querySelector('#df-9359dde8-9c16-433b-b940-9885bb3f9d60 button.colab-df-convert');\n",
              "        buttonEl.style.display =\n",
              "          google.colab.kernel.accessAllowed ? 'block' : 'none';\n",
              "\n",
              "        async function convertToInteractive(key) {\n",
              "          const element = document.querySelector('#df-9359dde8-9c16-433b-b940-9885bb3f9d60');\n",
              "          const dataTable =\n",
              "            await google.colab.kernel.invokeFunction('convertToInteractive',\n",
              "                                                     [key], {});\n",
              "          if (!dataTable) return;\n",
              "\n",
              "          const docLinkHtml = 'Like what you see? Visit the ' +\n",
              "            '<a target=\"_blank\" href=https://colab.research.google.com/notebooks/data_table.ipynb>data table notebook</a>'\n",
              "            + ' to learn more about interactive tables.';\n",
              "          element.innerHTML = '';\n",
              "          dataTable['output_type'] = 'display_data';\n",
              "          await google.colab.output.renderOutput(dataTable, element);\n",
              "          const docLink = document.createElement('div');\n",
              "          docLink.innerHTML = docLinkHtml;\n",
              "          element.appendChild(docLink);\n",
              "        }\n",
              "      </script>\n",
              "    </div>\n",
              "  </div>\n",
              "  "
            ]
          },
          "metadata": {},
          "execution_count": 113
        }
      ]
    }
  ]
}