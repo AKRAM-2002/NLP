{
  "nbformat": 4,
  "nbformat_minor": 0,
  "metadata": {
    "colab": {
      "provenance": []
    },
    "kernelspec": {
      "name": "python3",
      "display_name": "Python 3"
    },
    "language_info": {
      "name": "python"
    }
  },
  "cells": [
    {
      "cell_type": "markdown",
      "source": [
        "Apply word2vec on a subset of the dataset of Amazon Product Reviews"
      ],
      "metadata": {
        "id": "y6zvNC9FTJXt"
      }
    },
    {
      "cell_type": "code",
      "execution_count": 18,
      "metadata": {
        "colab": {
          "base_uri": "https://localhost:8080/"
        },
        "id": "huvLqV7ESoBA",
        "outputId": "6d249068-788f-4939-eb9c-f8af0cf39d34"
      },
      "outputs": [
        {
          "output_type": "stream",
          "name": "stdout",
          "text": [
            "Looking in indexes: https://pypi.org/simple, https://us-python.pkg.dev/colab-wheels/public/simple/\n",
            "Requirement already satisfied: kaggle in /usr/local/lib/python3.10/dist-packages (1.5.13)\n",
            "Requirement already satisfied: six>=1.10 in /usr/local/lib/python3.10/dist-packages (from kaggle) (1.16.0)\n",
            "Requirement already satisfied: certifi in /usr/local/lib/python3.10/dist-packages (from kaggle) (2022.12.7)\n",
            "Requirement already satisfied: python-dateutil in /usr/local/lib/python3.10/dist-packages (from kaggle) (2.8.2)\n",
            "Requirement already satisfied: requests in /usr/local/lib/python3.10/dist-packages (from kaggle) (2.27.1)\n",
            "Requirement already satisfied: tqdm in /usr/local/lib/python3.10/dist-packages (from kaggle) (4.65.0)\n",
            "Requirement already satisfied: python-slugify in /usr/local/lib/python3.10/dist-packages (from kaggle) (8.0.1)\n",
            "Requirement already satisfied: urllib3 in /usr/local/lib/python3.10/dist-packages (from kaggle) (1.26.15)\n",
            "Requirement already satisfied: text-unidecode>=1.3 in /usr/local/lib/python3.10/dist-packages (from python-slugify->kaggle) (1.3)\n",
            "Requirement already satisfied: charset-normalizer~=2.0.0 in /usr/local/lib/python3.10/dist-packages (from requests->kaggle) (2.0.12)\n",
            "Requirement already satisfied: idna<4,>=2.5 in /usr/local/lib/python3.10/dist-packages (from requests->kaggle) (3.4)\n"
          ]
        }
      ],
      "source": [
        "#installing the kaggle library\n",
        "!pip install kaggle "
      ]
    },
    {
      "cell_type": "code",
      "source": [
        "from google.colab import files\n",
        "files.upload()"
      ],
      "metadata": {
        "id": "acM1oQzTUNUM",
        "colab": {
          "base_uri": "https://localhost:8080/",
          "height": 109
        },
        "outputId": "66259714-eb62-4e1d-e36d-dc01fcf825d8"
      },
      "execution_count": 19,
      "outputs": [
        {
          "output_type": "display_data",
          "data": {
            "text/plain": [
              "<IPython.core.display.HTML object>"
            ],
            "text/html": [
              "\n",
              "     <input type=\"file\" id=\"files-ffe0d5ac-ad6f-4f96-9925-de732958e5e6\" name=\"files[]\" multiple disabled\n",
              "        style=\"border:none\" />\n",
              "     <output id=\"result-ffe0d5ac-ad6f-4f96-9925-de732958e5e6\">\n",
              "      Upload widget is only available when the cell has been executed in the\n",
              "      current browser session. Please rerun this cell to enable.\n",
              "      </output>\n",
              "      <script>// Copyright 2017 Google LLC\n",
              "//\n",
              "// Licensed under the Apache License, Version 2.0 (the \"License\");\n",
              "// you may not use this file except in compliance with the License.\n",
              "// You may obtain a copy of the License at\n",
              "//\n",
              "//      http://www.apache.org/licenses/LICENSE-2.0\n",
              "//\n",
              "// Unless required by applicable law or agreed to in writing, software\n",
              "// distributed under the License is distributed on an \"AS IS\" BASIS,\n",
              "// WITHOUT WARRANTIES OR CONDITIONS OF ANY KIND, either express or implied.\n",
              "// See the License for the specific language governing permissions and\n",
              "// limitations under the License.\n",
              "\n",
              "/**\n",
              " * @fileoverview Helpers for google.colab Python module.\n",
              " */\n",
              "(function(scope) {\n",
              "function span(text, styleAttributes = {}) {\n",
              "  const element = document.createElement('span');\n",
              "  element.textContent = text;\n",
              "  for (const key of Object.keys(styleAttributes)) {\n",
              "    element.style[key] = styleAttributes[key];\n",
              "  }\n",
              "  return element;\n",
              "}\n",
              "\n",
              "// Max number of bytes which will be uploaded at a time.\n",
              "const MAX_PAYLOAD_SIZE = 100 * 1024;\n",
              "\n",
              "function _uploadFiles(inputId, outputId) {\n",
              "  const steps = uploadFilesStep(inputId, outputId);\n",
              "  const outputElement = document.getElementById(outputId);\n",
              "  // Cache steps on the outputElement to make it available for the next call\n",
              "  // to uploadFilesContinue from Python.\n",
              "  outputElement.steps = steps;\n",
              "\n",
              "  return _uploadFilesContinue(outputId);\n",
              "}\n",
              "\n",
              "// This is roughly an async generator (not supported in the browser yet),\n",
              "// where there are multiple asynchronous steps and the Python side is going\n",
              "// to poll for completion of each step.\n",
              "// This uses a Promise to block the python side on completion of each step,\n",
              "// then passes the result of the previous step as the input to the next step.\n",
              "function _uploadFilesContinue(outputId) {\n",
              "  const outputElement = document.getElementById(outputId);\n",
              "  const steps = outputElement.steps;\n",
              "\n",
              "  const next = steps.next(outputElement.lastPromiseValue);\n",
              "  return Promise.resolve(next.value.promise).then((value) => {\n",
              "    // Cache the last promise value to make it available to the next\n",
              "    // step of the generator.\n",
              "    outputElement.lastPromiseValue = value;\n",
              "    return next.value.response;\n",
              "  });\n",
              "}\n",
              "\n",
              "/**\n",
              " * Generator function which is called between each async step of the upload\n",
              " * process.\n",
              " * @param {string} inputId Element ID of the input file picker element.\n",
              " * @param {string} outputId Element ID of the output display.\n",
              " * @return {!Iterable<!Object>} Iterable of next steps.\n",
              " */\n",
              "function* uploadFilesStep(inputId, outputId) {\n",
              "  const inputElement = document.getElementById(inputId);\n",
              "  inputElement.disabled = false;\n",
              "\n",
              "  const outputElement = document.getElementById(outputId);\n",
              "  outputElement.innerHTML = '';\n",
              "\n",
              "  const pickedPromise = new Promise((resolve) => {\n",
              "    inputElement.addEventListener('change', (e) => {\n",
              "      resolve(e.target.files);\n",
              "    });\n",
              "  });\n",
              "\n",
              "  const cancel = document.createElement('button');\n",
              "  inputElement.parentElement.appendChild(cancel);\n",
              "  cancel.textContent = 'Cancel upload';\n",
              "  const cancelPromise = new Promise((resolve) => {\n",
              "    cancel.onclick = () => {\n",
              "      resolve(null);\n",
              "    };\n",
              "  });\n",
              "\n",
              "  // Wait for the user to pick the files.\n",
              "  const files = yield {\n",
              "    promise: Promise.race([pickedPromise, cancelPromise]),\n",
              "    response: {\n",
              "      action: 'starting',\n",
              "    }\n",
              "  };\n",
              "\n",
              "  cancel.remove();\n",
              "\n",
              "  // Disable the input element since further picks are not allowed.\n",
              "  inputElement.disabled = true;\n",
              "\n",
              "  if (!files) {\n",
              "    return {\n",
              "      response: {\n",
              "        action: 'complete',\n",
              "      }\n",
              "    };\n",
              "  }\n",
              "\n",
              "  for (const file of files) {\n",
              "    const li = document.createElement('li');\n",
              "    li.append(span(file.name, {fontWeight: 'bold'}));\n",
              "    li.append(span(\n",
              "        `(${file.type || 'n/a'}) - ${file.size} bytes, ` +\n",
              "        `last modified: ${\n",
              "            file.lastModifiedDate ? file.lastModifiedDate.toLocaleDateString() :\n",
              "                                    'n/a'} - `));\n",
              "    const percent = span('0% done');\n",
              "    li.appendChild(percent);\n",
              "\n",
              "    outputElement.appendChild(li);\n",
              "\n",
              "    const fileDataPromise = new Promise((resolve) => {\n",
              "      const reader = new FileReader();\n",
              "      reader.onload = (e) => {\n",
              "        resolve(e.target.result);\n",
              "      };\n",
              "      reader.readAsArrayBuffer(file);\n",
              "    });\n",
              "    // Wait for the data to be ready.\n",
              "    let fileData = yield {\n",
              "      promise: fileDataPromise,\n",
              "      response: {\n",
              "        action: 'continue',\n",
              "      }\n",
              "    };\n",
              "\n",
              "    // Use a chunked sending to avoid message size limits. See b/62115660.\n",
              "    let position = 0;\n",
              "    do {\n",
              "      const length = Math.min(fileData.byteLength - position, MAX_PAYLOAD_SIZE);\n",
              "      const chunk = new Uint8Array(fileData, position, length);\n",
              "      position += length;\n",
              "\n",
              "      const base64 = btoa(String.fromCharCode.apply(null, chunk));\n",
              "      yield {\n",
              "        response: {\n",
              "          action: 'append',\n",
              "          file: file.name,\n",
              "          data: base64,\n",
              "        },\n",
              "      };\n",
              "\n",
              "      let percentDone = fileData.byteLength === 0 ?\n",
              "          100 :\n",
              "          Math.round((position / fileData.byteLength) * 100);\n",
              "      percent.textContent = `${percentDone}% done`;\n",
              "\n",
              "    } while (position < fileData.byteLength);\n",
              "  }\n",
              "\n",
              "  // All done.\n",
              "  yield {\n",
              "    response: {\n",
              "      action: 'complete',\n",
              "    }\n",
              "  };\n",
              "}\n",
              "\n",
              "scope.google = scope.google || {};\n",
              "scope.google.colab = scope.google.colab || {};\n",
              "scope.google.colab._files = {\n",
              "  _uploadFiles,\n",
              "  _uploadFilesContinue,\n",
              "};\n",
              "})(self);\n",
              "</script> "
            ]
          },
          "metadata": {}
        },
        {
          "output_type": "stream",
          "name": "stdout",
          "text": [
            "Saving kaggle.json to kaggle (3).json\n"
          ]
        },
        {
          "output_type": "execute_result",
          "data": {
            "text/plain": [
              "{'kaggle.json': b'{\"username\":\"akrambusiness\",\"key\":\"3b00820d5658b305a9386288c07227f0\"}'}"
            ]
          },
          "metadata": {},
          "execution_count": 19
        }
      ]
    },
    {
      "cell_type": "code",
      "source": [
        "#Upload Your kaggle Json file\n",
        "#We configure the path of kaggle.json file\n",
        "\n",
        "!mkdir -p ~/.kaggle\n",
        "!cp kaggle.json ~/.kaggle/\n",
        "!chmod 600 ~/.kaggle/kaggle.json"
      ],
      "metadata": {
        "id": "eaYsN-yCTQbr"
      },
      "execution_count": 25,
      "outputs": []
    },
    {
      "cell_type": "code",
      "source": [
        "##Importing  the dataset\n",
        "!kaggle datasets download -d grikomsn/amazon-cell-phones-reviews"
      ],
      "metadata": {
        "id": "eHQ3j24OTbBq"
      },
      "execution_count": null,
      "outputs": []
    },
    {
      "cell_type": "code",
      "source": [
        "#!pip install gensim\n",
        "!pip install python-Levenshtein"
      ],
      "metadata": {
        "colab": {
          "base_uri": "https://localhost:8080/"
        },
        "id": "Il3ywYOEatvf",
        "outputId": "57c64773-70dc-4111-cf69-2f9b6792fdd6"
      },
      "execution_count": 27,
      "outputs": [
        {
          "output_type": "stream",
          "name": "stdout",
          "text": [
            "Looking in indexes: https://pypi.org/simple, https://us-python.pkg.dev/colab-wheels/public/simple/\n",
            "Collecting python-Levenshtein\n",
            "  Downloading python_Levenshtein-0.21.0-py3-none-any.whl (9.4 kB)\n",
            "Collecting Levenshtein==0.21.0 (from python-Levenshtein)\n",
            "  Downloading Levenshtein-0.21.0-cp310-cp310-manylinux_2_17_x86_64.manylinux2014_x86_64.whl (174 kB)\n",
            "\u001b[2K     \u001b[90m━━━━━━━━━━━━━━━━━━━━━━━━━━━━━━━━━━━━━━━\u001b[0m \u001b[32m174.1/174.1 kB\u001b[0m \u001b[31m4.4 MB/s\u001b[0m eta \u001b[36m0:00:00\u001b[0m\n",
            "\u001b[?25hCollecting rapidfuzz<4.0.0,>=2.3.0 (from Levenshtein==0.21.0->python-Levenshtein)\n",
            "  Downloading rapidfuzz-3.0.0-cp310-cp310-manylinux_2_17_x86_64.manylinux2014_x86_64.whl (3.0 MB)\n",
            "\u001b[2K     \u001b[90m━━━━━━━━━━━━━━━━━━━━━━━━━━━━━━━━━━━━━━━━\u001b[0m \u001b[32m3.0/3.0 MB\u001b[0m \u001b[31m36.8 MB/s\u001b[0m eta \u001b[36m0:00:00\u001b[0m\n",
            "\u001b[?25hInstalling collected packages: rapidfuzz, Levenshtein, python-Levenshtein\n",
            "Successfully installed Levenshtein-0.21.0 python-Levenshtein-0.21.0 rapidfuzz-3.0.0\n"
          ]
        }
      ]
    },
    {
      "cell_type": "markdown",
      "source": [
        "### **Reading and Exploring the dataset**\n",
        "\n",
        "\n",
        "\n"
      ],
      "metadata": {
        "id": "5E7VLa5gZs32"
      }
    },
    {
      "cell_type": "markdown",
      "source": [
        "the dataset we used in our notebook is a subset of Amazon reviews from the Cell Phones category, we gonna read it using pandas.\n",
        "Link to the Dataset:\n",
        "https://www.kaggle.com/datasets/grikomsn/amazon-cell-phones-reviews/download?datasetVersionNumber=2"
      ],
      "metadata": {
        "id": "09HKYUaeaBEq"
      }
    },
    {
      "cell_type": "code",
      "source": [
        "import gensim\n",
        "import pandas as pd"
      ],
      "metadata": {
        "id": "HgP28HI8Tes3"
      },
      "execution_count": 26,
      "outputs": []
    },
    {
      "cell_type": "code",
      "source": [
        "df = pd.read_csv(\"/content/Cell_Phones_reviews.csv\",delimiter =',')\n",
        "df.head()"
      ],
      "metadata": {
        "id": "BT5Cr4fhV5_F",
        "colab": {
          "base_uri": "https://localhost:8080/",
          "height": 738
        },
        "outputId": "f96c86e1-d69b-4118-bef0-2a3b0ef3bd14"
      },
      "execution_count": 30,
      "outputs": [
        {
          "output_type": "execute_result",
          "data": {
            "text/plain": [
              "         asin           name  rating               date  verified  \\\n",
              "0  B0000SX2UC          Janet       3   October 11, 2005     False   \n",
              "1  B0000SX2UC     Luke Wyatt       1    January 7, 2004     False   \n",
              "2  B0000SX2UC         Brooke       5  December 30, 2003     False   \n",
              "3  B0000SX2UC  amy m. teague       3     March 18, 2004     False   \n",
              "4  B0000SX2UC  tristazbimmer       4    August 28, 2005     False   \n",
              "\n",
              "                                          title  \\\n",
              "0                   Def not best, but not worst   \n",
              "1                   Text Messaging Doesn't Work   \n",
              "2                               Love This Phone   \n",
              "3                       Love the Phone, BUT...!   \n",
              "4  Great phone service and options, lousy case!   \n",
              "\n",
              "                                                body  helpfulVotes  \n",
              "0  I had the Samsung A600 for awhile which is abs...           1.0  \n",
              "1  Due to a software issue between Nokia and Spri...          17.0  \n",
              "2  This is a great, reliable phone. I also purcha...           5.0  \n",
              "3  I love the phone and all, because I really did...           1.0  \n",
              "4  The phone has been great for every purpose it ...           1.0  "
            ],
            "text/html": [
              "\n",
              "  <div id=\"df-e54f9d08-2e68-47dd-b7c9-e41361a6a498\">\n",
              "    <div class=\"colab-df-container\">\n",
              "      <div>\n",
              "<style scoped>\n",
              "    .dataframe tbody tr th:only-of-type {\n",
              "        vertical-align: middle;\n",
              "    }\n",
              "\n",
              "    .dataframe tbody tr th {\n",
              "        vertical-align: top;\n",
              "    }\n",
              "\n",
              "    .dataframe thead th {\n",
              "        text-align: right;\n",
              "    }\n",
              "</style>\n",
              "<table border=\"1\" class=\"dataframe\">\n",
              "  <thead>\n",
              "    <tr style=\"text-align: right;\">\n",
              "      <th></th>\n",
              "      <th>asin</th>\n",
              "      <th>name</th>\n",
              "      <th>rating</th>\n",
              "      <th>date</th>\n",
              "      <th>verified</th>\n",
              "      <th>title</th>\n",
              "      <th>body</th>\n",
              "      <th>helpfulVotes</th>\n",
              "    </tr>\n",
              "  </thead>\n",
              "  <tbody>\n",
              "    <tr>\n",
              "      <th>0</th>\n",
              "      <td>B0000SX2UC</td>\n",
              "      <td>Janet</td>\n",
              "      <td>3</td>\n",
              "      <td>October 11, 2005</td>\n",
              "      <td>False</td>\n",
              "      <td>Def not best, but not worst</td>\n",
              "      <td>I had the Samsung A600 for awhile which is abs...</td>\n",
              "      <td>1.0</td>\n",
              "    </tr>\n",
              "    <tr>\n",
              "      <th>1</th>\n",
              "      <td>B0000SX2UC</td>\n",
              "      <td>Luke Wyatt</td>\n",
              "      <td>1</td>\n",
              "      <td>January 7, 2004</td>\n",
              "      <td>False</td>\n",
              "      <td>Text Messaging Doesn't Work</td>\n",
              "      <td>Due to a software issue between Nokia and Spri...</td>\n",
              "      <td>17.0</td>\n",
              "    </tr>\n",
              "    <tr>\n",
              "      <th>2</th>\n",
              "      <td>B0000SX2UC</td>\n",
              "      <td>Brooke</td>\n",
              "      <td>5</td>\n",
              "      <td>December 30, 2003</td>\n",
              "      <td>False</td>\n",
              "      <td>Love This Phone</td>\n",
              "      <td>This is a great, reliable phone. I also purcha...</td>\n",
              "      <td>5.0</td>\n",
              "    </tr>\n",
              "    <tr>\n",
              "      <th>3</th>\n",
              "      <td>B0000SX2UC</td>\n",
              "      <td>amy m. teague</td>\n",
              "      <td>3</td>\n",
              "      <td>March 18, 2004</td>\n",
              "      <td>False</td>\n",
              "      <td>Love the Phone, BUT...!</td>\n",
              "      <td>I love the phone and all, because I really did...</td>\n",
              "      <td>1.0</td>\n",
              "    </tr>\n",
              "    <tr>\n",
              "      <th>4</th>\n",
              "      <td>B0000SX2UC</td>\n",
              "      <td>tristazbimmer</td>\n",
              "      <td>4</td>\n",
              "      <td>August 28, 2005</td>\n",
              "      <td>False</td>\n",
              "      <td>Great phone service and options, lousy case!</td>\n",
              "      <td>The phone has been great for every purpose it ...</td>\n",
              "      <td>1.0</td>\n",
              "    </tr>\n",
              "  </tbody>\n",
              "</table>\n",
              "</div>\n",
              "      <button class=\"colab-df-convert\" onclick=\"convertToInteractive('df-e54f9d08-2e68-47dd-b7c9-e41361a6a498')\"\n",
              "              title=\"Convert this dataframe to an interactive table.\"\n",
              "              style=\"display:none;\">\n",
              "        \n",
              "  <svg xmlns=\"http://www.w3.org/2000/svg\" height=\"24px\"viewBox=\"0 0 24 24\"\n",
              "       width=\"24px\">\n",
              "    <path d=\"M0 0h24v24H0V0z\" fill=\"none\"/>\n",
              "    <path d=\"M18.56 5.44l.94 2.06.94-2.06 2.06-.94-2.06-.94-.94-2.06-.94 2.06-2.06.94zm-11 1L8.5 8.5l.94-2.06 2.06-.94-2.06-.94L8.5 2.5l-.94 2.06-2.06.94zm10 10l.94 2.06.94-2.06 2.06-.94-2.06-.94-.94-2.06-.94 2.06-2.06.94z\"/><path d=\"M17.41 7.96l-1.37-1.37c-.4-.4-.92-.59-1.43-.59-.52 0-1.04.2-1.43.59L10.3 9.45l-7.72 7.72c-.78.78-.78 2.05 0 2.83L4 21.41c.39.39.9.59 1.41.59.51 0 1.02-.2 1.41-.59l7.78-7.78 2.81-2.81c.8-.78.8-2.07 0-2.86zM5.41 20L4 18.59l7.72-7.72 1.47 1.35L5.41 20z\"/>\n",
              "  </svg>\n",
              "      </button>\n",
              "      \n",
              "  <style>\n",
              "    .colab-df-container {\n",
              "      display:flex;\n",
              "      flex-wrap:wrap;\n",
              "      gap: 12px;\n",
              "    }\n",
              "\n",
              "    .colab-df-convert {\n",
              "      background-color: #E8F0FE;\n",
              "      border: none;\n",
              "      border-radius: 50%;\n",
              "      cursor: pointer;\n",
              "      display: none;\n",
              "      fill: #1967D2;\n",
              "      height: 32px;\n",
              "      padding: 0 0 0 0;\n",
              "      width: 32px;\n",
              "    }\n",
              "\n",
              "    .colab-df-convert:hover {\n",
              "      background-color: #E2EBFA;\n",
              "      box-shadow: 0px 1px 2px rgba(60, 64, 67, 0.3), 0px 1px 3px 1px rgba(60, 64, 67, 0.15);\n",
              "      fill: #174EA6;\n",
              "    }\n",
              "\n",
              "    [theme=dark] .colab-df-convert {\n",
              "      background-color: #3B4455;\n",
              "      fill: #D2E3FC;\n",
              "    }\n",
              "\n",
              "    [theme=dark] .colab-df-convert:hover {\n",
              "      background-color: #434B5C;\n",
              "      box-shadow: 0px 1px 3px 1px rgba(0, 0, 0, 0.15);\n",
              "      filter: drop-shadow(0px 1px 2px rgba(0, 0, 0, 0.3));\n",
              "      fill: #FFFFFF;\n",
              "    }\n",
              "  </style>\n",
              "\n",
              "      <script>\n",
              "        const buttonEl =\n",
              "          document.querySelector('#df-e54f9d08-2e68-47dd-b7c9-e41361a6a498 button.colab-df-convert');\n",
              "        buttonEl.style.display =\n",
              "          google.colab.kernel.accessAllowed ? 'block' : 'none';\n",
              "\n",
              "        async function convertToInteractive(key) {\n",
              "          const element = document.querySelector('#df-e54f9d08-2e68-47dd-b7c9-e41361a6a498');\n",
              "          const dataTable =\n",
              "            await google.colab.kernel.invokeFunction('convertToInteractive',\n",
              "                                                     [key], {});\n",
              "          if (!dataTable) return;\n",
              "\n",
              "          const docLinkHtml = 'Like what you see? Visit the ' +\n",
              "            '<a target=\"_blank\" href=https://colab.research.google.com/notebooks/data_table.ipynb>data table notebook</a>'\n",
              "            + ' to learn more about interactive tables.';\n",
              "          element.innerHTML = '';\n",
              "          dataTable['output_type'] = 'display_data';\n",
              "          await google.colab.output.renderOutput(dataTable, element);\n",
              "          const docLink = document.createElement('div');\n",
              "          docLink.innerHTML = docLinkHtml;\n",
              "          element.appendChild(docLink);\n",
              "        }\n",
              "      </script>\n",
              "    </div>\n",
              "  </div>\n",
              "  "
            ]
          },
          "metadata": {},
          "execution_count": 30
        }
      ]
    },
    {
      "cell_type": "markdown",
      "source": [
        "We will train a word2vec model using only the column \"body\" as we can also use the \"title\", we can delete some unecessary columns or just ignore them"
      ],
      "metadata": {
        "id": "otqkKzmMce9A"
      }
    },
    {
      "cell_type": "code",
      "source": [
        "df.body[0]"
      ],
      "metadata": {
        "colab": {
          "base_uri": "https://localhost:8080/",
          "height": 258
        },
        "id": "c9rwmHRNdYcw",
        "outputId": "9a950376-c6fa-4726-a342-89f405315f88"
      },
      "execution_count": 36,
      "outputs": [
        {
          "output_type": "execute_result",
          "data": {
            "text/plain": [
              "\"I had the Samsung A600 for awhile which is absolute doo doo. You can read my review on it and detect my rage at the stupid thing. It finally died on me so I used this Nokia phone I bought in a garage sale for $1. I wonder y she sold it so cheap?... Bad: ===> I hate the menu. It takes forever to get to what you want because you have to scroll endlessly. Usually phones have numbered categories so u can simply press the # and get where you want to go. ===> It's a pain to put it on silent or vibrate. If you're in class and it rings, you have to turn it off immediately. There's no fast way to silence the damn thing. Always remember to put it on silent! I learned that the hard way. ===> It's so true about the case. It's a mission to get off and will break ur nails in the process. Also, you'll damage the case each time u try. For some reason the phone started giving me problems once I did succeed in opening it. ===> Buttons could be a bit bigger. Vibration could be stronger. Good: ===> Reception is not too shabby. I was using it in the elevator which is a remarkable feat considering my old phone would lose service by simply putting it in my pocket. ===> Compared to my old Samsung, this phone works quite well. The ring tones are loud enough to hear and the phone actually charges quickly and has great battery life. It doesn't heat up like a potatoe in the oven either during long phone convos. ===> Nice bright, large screen. ===> Cute ways to customize it. Scroll bar can be set to purple, pink, aqua, orange, etc. Overall: Okay phone. It serves its purpose but definitely pales in comparison to these new phones coming out from Sprint. Why get so so when you can get great?\""
            ],
            "application/vnd.google.colaboratory.intrinsic+json": {
              "type": "string"
            }
          },
          "metadata": {},
          "execution_count": 36
        }
      ]
    },
    {
      "cell_type": "code",
      "source": [
        "df.shape"
      ],
      "metadata": {
        "colab": {
          "base_uri": "https://localhost:8080/"
        },
        "id": "IPD0fZNodR-n",
        "outputId": "4bf8dfa8-9b94-4ec3-8645-bc506f63ac13"
      },
      "execution_count": 33,
      "outputs": [
        {
          "output_type": "execute_result",
          "data": {
            "text/plain": [
              "(67986, 7)"
            ]
          },
          "metadata": {},
          "execution_count": 33
        }
      ]
    },
    {
      "cell_type": "markdown",
      "source": [
        "### **Simple Preprocessing**"
      ],
      "metadata": {
        "id": "TDoxucaOoWzc"
      }
    },
    {
      "cell_type": "markdown",
      "source": [
        "this simple function in gensim libray can do some basic preprocessing operations like converting all the words to lower case, trimming spaces, removing punctuations and stop words for our first review as an example to show you "
      ],
      "metadata": {
        "id": "nhDuPG8od4bu"
      }
    },
    {
      "cell_type": "code",
      "source": [
        "gensim.utils.simple_preprocess(\"I had the Samsung A600 for awhile which is absolute doo doo. You can read my review on it and detect my rage at the stupid thing. It finally died on me so I used this Nokia phone I bought in a garage sale for $1. I wonder y she sold it so cheap?... Bad: ===> I hate the menu. It takes forever to get to what you want because you have to scroll endlessly. Usually phones have numbered categories so u can simply press the # and get where you want to go. ===> It's a pain to put it on silent or vibrate. If you're in class and it rings, you have to turn it off immediately. There's no fast way to silence the damn thing. Always remember to put it on silent! I learned that the hard way. ===> It's so true about the case. It's a mission to get off and will break ur nails in the process. Also, you'll damage the case each time u try. For some reason the phone started giving me problems once I did succeed in opening it. ===> Buttons could be a bit bigger. Vibration could be stronger. Good: ===> Reception is not too shabby. I was using it in the elevator which is a remarkable feat considering my old phone would lose service by simply putting it in my pocket. ===> Compared to my old Samsung, this phone works quite well. The ring tones are loud enough to hear and the phone actually charges quickly and has great battery life. It doesn't heat up like a potatoe in the oven either during long phone convos. ===> Nice bright, large screen. ===> Cute ways to customize it. Scroll bar can be set to purple, pink, aqua, orange, etc. Overall: Okay phone. It serves its purpose but definitely pales in comparison to these new phones coming out from Sprint. Why get so so when you can get great?\")"
      ],
      "metadata": {
        "colab": {
          "base_uri": "https://localhost:8080/"
        },
        "id": "SHAn38ZGcVc8",
        "outputId": "044d256a-c516-410a-f089-e406d29689e2"
      },
      "execution_count": 37,
      "outputs": [
        {
          "output_type": "execute_result",
          "data": {
            "text/plain": [
              "['had',\n",
              " 'the',\n",
              " 'samsung',\n",
              " 'for',\n",
              " 'awhile',\n",
              " 'which',\n",
              " 'is',\n",
              " 'absolute',\n",
              " 'doo',\n",
              " 'doo',\n",
              " 'you',\n",
              " 'can',\n",
              " 'read',\n",
              " 'my',\n",
              " 'review',\n",
              " 'on',\n",
              " 'it',\n",
              " 'and',\n",
              " 'detect',\n",
              " 'my',\n",
              " 'rage',\n",
              " 'at',\n",
              " 'the',\n",
              " 'stupid',\n",
              " 'thing',\n",
              " 'it',\n",
              " 'finally',\n",
              " 'died',\n",
              " 'on',\n",
              " 'me',\n",
              " 'so',\n",
              " 'used',\n",
              " 'this',\n",
              " 'nokia',\n",
              " 'phone',\n",
              " 'bought',\n",
              " 'in',\n",
              " 'garage',\n",
              " 'sale',\n",
              " 'for',\n",
              " 'wonder',\n",
              " 'she',\n",
              " 'sold',\n",
              " 'it',\n",
              " 'so',\n",
              " 'cheap',\n",
              " 'bad',\n",
              " 'hate',\n",
              " 'the',\n",
              " 'menu',\n",
              " 'it',\n",
              " 'takes',\n",
              " 'forever',\n",
              " 'to',\n",
              " 'get',\n",
              " 'to',\n",
              " 'what',\n",
              " 'you',\n",
              " 'want',\n",
              " 'because',\n",
              " 'you',\n",
              " 'have',\n",
              " 'to',\n",
              " 'scroll',\n",
              " 'endlessly',\n",
              " 'usually',\n",
              " 'phones',\n",
              " 'have',\n",
              " 'numbered',\n",
              " 'categories',\n",
              " 'so',\n",
              " 'can',\n",
              " 'simply',\n",
              " 'press',\n",
              " 'the',\n",
              " 'and',\n",
              " 'get',\n",
              " 'where',\n",
              " 'you',\n",
              " 'want',\n",
              " 'to',\n",
              " 'go',\n",
              " 'it',\n",
              " 'pain',\n",
              " 'to',\n",
              " 'put',\n",
              " 'it',\n",
              " 'on',\n",
              " 'silent',\n",
              " 'or',\n",
              " 'vibrate',\n",
              " 'if',\n",
              " 'you',\n",
              " 're',\n",
              " 'in',\n",
              " 'class',\n",
              " 'and',\n",
              " 'it',\n",
              " 'rings',\n",
              " 'you',\n",
              " 'have',\n",
              " 'to',\n",
              " 'turn',\n",
              " 'it',\n",
              " 'off',\n",
              " 'immediately',\n",
              " 'there',\n",
              " 'no',\n",
              " 'fast',\n",
              " 'way',\n",
              " 'to',\n",
              " 'silence',\n",
              " 'the',\n",
              " 'damn',\n",
              " 'thing',\n",
              " 'always',\n",
              " 'remember',\n",
              " 'to',\n",
              " 'put',\n",
              " 'it',\n",
              " 'on',\n",
              " 'silent',\n",
              " 'learned',\n",
              " 'that',\n",
              " 'the',\n",
              " 'hard',\n",
              " 'way',\n",
              " 'it',\n",
              " 'so',\n",
              " 'true',\n",
              " 'about',\n",
              " 'the',\n",
              " 'case',\n",
              " 'it',\n",
              " 'mission',\n",
              " 'to',\n",
              " 'get',\n",
              " 'off',\n",
              " 'and',\n",
              " 'will',\n",
              " 'break',\n",
              " 'ur',\n",
              " 'nails',\n",
              " 'in',\n",
              " 'the',\n",
              " 'process',\n",
              " 'also',\n",
              " 'you',\n",
              " 'll',\n",
              " 'damage',\n",
              " 'the',\n",
              " 'case',\n",
              " 'each',\n",
              " 'time',\n",
              " 'try',\n",
              " 'for',\n",
              " 'some',\n",
              " 'reason',\n",
              " 'the',\n",
              " 'phone',\n",
              " 'started',\n",
              " 'giving',\n",
              " 'me',\n",
              " 'problems',\n",
              " 'once',\n",
              " 'did',\n",
              " 'succeed',\n",
              " 'in',\n",
              " 'opening',\n",
              " 'it',\n",
              " 'buttons',\n",
              " 'could',\n",
              " 'be',\n",
              " 'bit',\n",
              " 'bigger',\n",
              " 'vibration',\n",
              " 'could',\n",
              " 'be',\n",
              " 'stronger',\n",
              " 'good',\n",
              " 'reception',\n",
              " 'is',\n",
              " 'not',\n",
              " 'too',\n",
              " 'shabby',\n",
              " 'was',\n",
              " 'using',\n",
              " 'it',\n",
              " 'in',\n",
              " 'the',\n",
              " 'elevator',\n",
              " 'which',\n",
              " 'is',\n",
              " 'remarkable',\n",
              " 'feat',\n",
              " 'considering',\n",
              " 'my',\n",
              " 'old',\n",
              " 'phone',\n",
              " 'would',\n",
              " 'lose',\n",
              " 'service',\n",
              " 'by',\n",
              " 'simply',\n",
              " 'putting',\n",
              " 'it',\n",
              " 'in',\n",
              " 'my',\n",
              " 'pocket',\n",
              " 'compared',\n",
              " 'to',\n",
              " 'my',\n",
              " 'old',\n",
              " 'samsung',\n",
              " 'this',\n",
              " 'phone',\n",
              " 'works',\n",
              " 'quite',\n",
              " 'well',\n",
              " 'the',\n",
              " 'ring',\n",
              " 'tones',\n",
              " 'are',\n",
              " 'loud',\n",
              " 'enough',\n",
              " 'to',\n",
              " 'hear',\n",
              " 'and',\n",
              " 'the',\n",
              " 'phone',\n",
              " 'actually',\n",
              " 'charges',\n",
              " 'quickly',\n",
              " 'and',\n",
              " 'has',\n",
              " 'great',\n",
              " 'battery',\n",
              " 'life',\n",
              " 'it',\n",
              " 'doesn',\n",
              " 'heat',\n",
              " 'up',\n",
              " 'like',\n",
              " 'potatoe',\n",
              " 'in',\n",
              " 'the',\n",
              " 'oven',\n",
              " 'either',\n",
              " 'during',\n",
              " 'long',\n",
              " 'phone',\n",
              " 'convos',\n",
              " 'nice',\n",
              " 'bright',\n",
              " 'large',\n",
              " 'screen',\n",
              " 'cute',\n",
              " 'ways',\n",
              " 'to',\n",
              " 'customize',\n",
              " 'it',\n",
              " 'scroll',\n",
              " 'bar',\n",
              " 'can',\n",
              " 'be',\n",
              " 'set',\n",
              " 'to',\n",
              " 'purple',\n",
              " 'pink',\n",
              " 'aqua',\n",
              " 'orange',\n",
              " 'etc',\n",
              " 'overall',\n",
              " 'okay',\n",
              " 'phone',\n",
              " 'it',\n",
              " 'serves',\n",
              " 'its',\n",
              " 'purpose',\n",
              " 'but',\n",
              " 'definitely',\n",
              " 'pales',\n",
              " 'in',\n",
              " 'comparison',\n",
              " 'to',\n",
              " 'these',\n",
              " 'new',\n",
              " 'phones',\n",
              " 'coming',\n",
              " 'out',\n",
              " 'from',\n",
              " 'sprint',\n",
              " 'why',\n",
              " 'get',\n",
              " 'so',\n",
              " 'so',\n",
              " 'when',\n",
              " 'you',\n",
              " 'can',\n",
              " 'get',\n",
              " 'great']"
            ]
          },
          "metadata": {},
          "execution_count": 37
        }
      ]
    },
    {
      "cell_type": "markdown",
      "source": [
        "Now we gonna apply it to the entire body column"
      ],
      "metadata": {
        "id": "iPnwDcHWeoVR"
      }
    },
    {
      "cell_type": "code",
      "source": [
        "review_text = df.body.astype(str).apply(gensim.utils.simple_preprocess)"
      ],
      "metadata": {
        "id": "tST7vQ3XcVis"
      },
      "execution_count": 39,
      "outputs": []
    },
    {
      "cell_type": "code",
      "source": [
        "review_text"
      ],
      "metadata": {
        "colab": {
          "base_uri": "https://localhost:8080/"
        },
        "id": "4muLqFiteVHA",
        "outputId": "27a06523-2152-441b-9b19-860b191de3da"
      },
      "execution_count": 40,
      "outputs": [
        {
          "output_type": "execute_result",
          "data": {
            "text/plain": [
              "0        [had, the, samsung, for, awhile, which, is, ab...\n",
              "1        [due, to, software, issue, between, nokia, and...\n",
              "2        [this, is, great, reliable, phone, also, purch...\n",
              "3        [love, the, phone, and, all, because, really, ...\n",
              "4        [the, phone, has, been, great, for, every, pur...\n",
              "                               ...                        \n",
              "67981    [love, the, camera, on, this, phone, the, scre...\n",
              "67982    [ve, been, an, xperia, user, for, several, yea...\n",
              "67983                    [buy, one, more, for, my, cousin]\n",
              "67984    [product, looks, and, works, like, new, very, ...\n",
              "67985    [love, the, size, and, style, of, this, phone,...\n",
              "Name: body, Length: 67986, dtype: object"
            ]
          },
          "metadata": {},
          "execution_count": 40
        }
      ]
    },
    {
      "cell_type": "markdown",
      "source": [
        "We created a pandas seriesn, each object in those series is a list of tokenized words "
      ],
      "metadata": {
        "id": "WHTamAjXgx4q"
      }
    },
    {
      "cell_type": "markdown",
      "source": [
        "###  **Training the model**"
      ],
      "metadata": {
        "id": "UkJjdCVNokV2"
      }
    },
    {
      "cell_type": "markdown",
      "source": [
        "Now we gonna create our model"
      ],
      "metadata": {
        "id": "N5RIBE4thkUM"
      }
    },
    {
      "cell_type": "code",
      "source": [
        "model = gensim.models.Word2Vec(window = 10, min_count = 2, workers = 4)"
      ],
      "metadata": {
        "id": "w1PGJ3qxeVUZ"
      },
      "execution_count": 41,
      "outputs": []
    },
    {
      "cell_type": "code",
      "source": [
        "#building vocabulary\n",
        "model.build_vocab(review_text, progress_per=100)"
      ],
      "metadata": {
        "colab": {
          "base_uri": "https://localhost:8080/"
        },
        "id": "YZiORJ25gs_9",
        "outputId": "2f4f57ca-5f78-47b4-9bad-6d58b40eecc6"
      },
      "execution_count": 43,
      "outputs": [
        {
          "output_type": "stream",
          "name": "stderr",
          "text": [
            "WARNING:gensim.models.keyedvectors:sorting after vectors have been allocated is expensive & error-prone\n"
          ]
        }
      ]
    },
    {
      "cell_type": "code",
      "source": [
        "model.corpus_count"
      ],
      "metadata": {
        "colab": {
          "base_uri": "https://localhost:8080/"
        },
        "id": "Rl3jGsWSipU4",
        "outputId": "f1fc95b6-39ee-462f-d3b1-744cd8fbc984"
      },
      "execution_count": 44,
      "outputs": [
        {
          "output_type": "execute_result",
          "data": {
            "text/plain": [
              "67986"
            ]
          },
          "metadata": {},
          "execution_count": 44
        }
      ]
    },
    {
      "cell_type": "code",
      "source": [
        "#training the model\n",
        "model.train(review_text, total_examples= model.corpus_count, epochs =model.epochs)"
      ],
      "metadata": {
        "colab": {
          "base_uri": "https://localhost:8080/"
        },
        "id": "FKm9IrHUgtLc",
        "outputId": "1b34f2e1-936c-451c-cbb6-ae28359ea5c8"
      },
      "execution_count": 45,
      "outputs": [
        {
          "output_type": "execute_result",
          "data": {
            "text/plain": [
              "(12780938, 17372980)"
            ]
          },
          "metadata": {},
          "execution_count": 45
        }
      ]
    },
    {
      "cell_type": "markdown",
      "source": [
        "  Let's evaluate our model by doing some some similarities"
      ],
      "metadata": {
        "id": "oU6JmLpnjU5q"
      }
    },
    {
      "cell_type": "code",
      "source": [
        "model.wv.most_similar(\"bad\")"
      ],
      "metadata": {
        "colab": {
          "base_uri": "https://localhost:8080/"
        },
        "id": "8iDN_s9mjBsc",
        "outputId": "dad192d1-2857-4ca9-c638-d3dc16510848"
      },
      "execution_count": 46,
      "outputs": [
        {
          "output_type": "execute_result",
          "data": {
            "text/plain": [
              "[('terrible', 0.6830868721008301),\n",
              " ('horrible', 0.6353497505187988),\n",
              " ('good', 0.6071088910102844),\n",
              " ('poor', 0.5469701886177063),\n",
              " ('crappy', 0.5149475932121277),\n",
              " ('disappointing', 0.5011484026908875),\n",
              " ('sucks', 0.49565616250038147),\n",
              " ('weak', 0.4690515995025635),\n",
              " ('sad', 0.4608418643474579),\n",
              " ('okay', 0.4497946798801422)]"
            ]
          },
          "metadata": {},
          "execution_count": 46
        }
      ]
    },
    {
      "cell_type": "code",
      "source": [
        "#We could see similarity between two words\n",
        "model.wv.similarity(w1= \"cheap\", w2 = \"inexpensive\")"
      ],
      "metadata": {
        "colab": {
          "base_uri": "https://localhost:8080/"
        },
        "id": "_Rh3nrWHjB7z",
        "outputId": "0fa46bd9-2e1e-422b-ea5e-2ae97f61f2dc"
      },
      "execution_count": 48,
      "outputs": [
        {
          "output_type": "execute_result",
          "data": {
            "text/plain": [
              "0.40743205"
            ]
          },
          "metadata": {},
          "execution_count": 48
        }
      ]
    },
    {
      "cell_type": "code",
      "source": [
        "model.wv.similarity(w1= \"good\", w2 = \"great\")"
      ],
      "metadata": {
        "colab": {
          "base_uri": "https://localhost:8080/"
        },
        "id": "z2LXSN4tj7IM",
        "outputId": "79003699-885e-4224-b80a-140a239e31bb"
      },
      "execution_count": 49,
      "outputs": [
        {
          "output_type": "execute_result",
          "data": {
            "text/plain": [
              "0.75749326"
            ]
          },
          "metadata": {},
          "execution_count": 49
        }
      ]
    },
    {
      "cell_type": "code",
      "source": [
        "model.wv.similarity(w1= \"cheap\", w2 = \"inexpensive\")"
      ],
      "metadata": {
        "id": "vem5pqi2kPhs"
      },
      "execution_count": null,
      "outputs": []
    },
    {
      "cell_type": "code",
      "source": [
        "model.wv.similarity(w1= \"great\", w2 = \"product\")"
      ],
      "metadata": {
        "colab": {
          "base_uri": "https://localhost:8080/"
        },
        "id": "mp6W6ny7npPW",
        "outputId": "83c6c5d6-e596-4673-a059-679f77824fb9"
      },
      "execution_count": 51,
      "outputs": [
        {
          "output_type": "execute_result",
          "data": {
            "text/plain": [
              "-0.19689213"
            ]
          },
          "metadata": {},
          "execution_count": 51
        }
      ]
    }
  ]
}