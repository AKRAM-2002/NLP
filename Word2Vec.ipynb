{
  "nbformat": 4,
  "nbformat_minor": 0,
  "metadata": {
    "colab": {
      "provenance": []
    },
    "kernelspec": {
      "name": "python3",
      "display_name": "Python 3"
    },
    "language_info": {
      "name": "python"
    }
  },
  "cells": [
    {
      "cell_type": "markdown",
      "source": [
        "## **What's word2Vec?**"
      ],
      "metadata": {
        "id": "6hSz7Rs3sRNb"
      }
    },
    {
      "cell_type": "markdown",
      "source": [
        "If you want to turn words into numbers, and you want those numbers to make sense, then use words embeddings as your input data to train your model, which are produced through the Machine learning process called **\"Word2Vec\"**, it will later help us to form similarities and comparisons between words"
      ],
      "metadata": {
        "id": "CwRT94eCS-_X"
      }
    },
    {
      "cell_type": "markdown",
      "source": [
        "So if you want to plug words into a Neural Network, or some othe ML model we need a way to do that(turning words into numbers) because unfortunately ML algorithms or machines overall don't work well with words, so how will do that?"
      ],
      "metadata": {
        "id": "-2mm7i_MkTqr"
      }
    },
    {
      "cell_type": "markdown",
      "source": [
        "Can we assign random numbers to words?\n",
        "Would that cause a problem? So how we will decide what words are similar and are used in similar contexts?\n",
        "let's see first a glance on history of Word2Vec:"
      ],
      "metadata": {
        "id": "4yhhSverl46Q"
      }
    },
    {
      "cell_type": "markdown",
      "source": [
        "##### **History of Word2Vec**"
      ],
      "metadata": {
        "id": "eDE3_1Ztnzc2"
      }
    },
    {
      "cell_type": "markdown",
      "source": [
        "Word2Vec has revolutionized the field of NLP by providing an efficient and scalable approach to learn word embeddings. Before Word2Vec, traditional methods for word representations, such as one-hot encoding or co-occurrence matrices, were limited in their ability to capture semantic relationships. Word2Vec addressed these limitations by using neural networks to learn distributed representations.\n",
        "\n",
        "Tomas Mikolov and his team at Google introduced two models for training word embeddings with Word2Vec: the Continuous Bag of Words (CBOW) model and the Skip-gram model. These models gained significant attention and popularity due to their simplicity and efficiency."
      ],
      "metadata": {
        "id": "XzlehuTen8fb"
      }
    },
    {
      "cell_type": "markdown",
      "source": [
        "Let's explore two common examples and compare the approach of Word2Vec with another traditional approach using code snippets."
      ],
      "metadata": {
        "id": "INouNnbZykwf"
      }
    },
    {
      "cell_type": "markdown",
      "source": [
        "**Example 1: Word Analogies**"
      ],
      "metadata": {
        "id": "xFshlDXR0hcR"
      }
    },
    {
      "cell_type": "markdown",
      "source": [
        "Word analogies involve finding a word that is to a given word as another word is to a target word. For instance, \"man\" is to \"woman\" as \"king\" is to ____. Word2Vec can capture these analogies by performing vector arithmetic."
      ],
      "metadata": {
        "id": "G_MHspqa0uk5"
      }
    },
    {
      "cell_type": "code",
      "source": [
        "!pip install gensim"
      ],
      "metadata": {
        "colab": {
          "base_uri": "https://localhost:8080/"
        },
        "id": "ITkEfRczl4DX",
        "outputId": "27490f17-8f53-4834-a949-0e00bea2eac3"
      },
      "execution_count": 4,
      "outputs": [
        {
          "output_type": "stream",
          "name": "stdout",
          "text": [
            "Looking in indexes: https://pypi.org/simple, https://us-python.pkg.dev/colab-wheels/public/simple/\n",
            "Requirement already satisfied: gensim in /usr/local/lib/python3.10/dist-packages (4.3.1)\n",
            "Requirement already satisfied: numpy>=1.18.5 in /usr/local/lib/python3.10/dist-packages (from gensim) (1.22.4)\n",
            "Requirement already satisfied: scipy>=1.7.0 in /usr/local/lib/python3.10/dist-packages (from gensim) (1.10.1)\n",
            "Requirement already satisfied: smart-open>=1.8.1 in /usr/local/lib/python3.10/dist-packages (from gensim) (6.3.0)\n"
          ]
        }
      ]
    },
    {
      "cell_type": "code",
      "source": [
        "#import modules\n",
        "from gensim.models import Word2Vec\n",
        "from gensim.test.utils import common_texts"
      ],
      "metadata": {
        "id": "Bwv0I9bdyy23"
      },
      "execution_count": 7,
      "outputs": []
    },
    {
      "cell_type": "code",
      "source": [
        "common_texts"
      ],
      "metadata": {
        "colab": {
          "base_uri": "https://localhost:8080/"
        },
        "id": "Blj1u48y1MfN",
        "outputId": "ccd622f3-3510-4980-f147-e7ded707e031"
      },
      "execution_count": 13,
      "outputs": [
        {
          "output_type": "execute_result",
          "data": {
            "text/plain": [
              "[['human', 'interface', 'computer'],\n",
              " ['survey', 'user', 'computer', 'system', 'response', 'time'],\n",
              " ['eps', 'user', 'interface', 'system'],\n",
              " ['system', 'human', 'system', 'eps'],\n",
              " ['user', 'response', 'time'],\n",
              " ['trees'],\n",
              " ['graph', 'trees'],\n",
              " ['graph', 'minors', 'trees'],\n",
              " ['graph', 'minors', 'survey']]"
            ]
          },
          "metadata": {},
          "execution_count": 13
        }
      ]
    },
    {
      "cell_type": "code",
      "source": [
        "# we will use this custom data for this approach\n",
        "sentences = [\n",
        "    ['king', 'queen', 'man', 'woman'],\n",
        "    ['apple', 'orange', 'banana'],\n",
        "    ['man', 'woman', 'child']\n",
        "]"
      ],
      "metadata": {
        "id": "kMs-VXsk1mnu"
      },
      "execution_count": 15,
      "outputs": []
    },
    {
      "cell_type": "code",
      "source": [
        "# Training Word2Vec model\n",
        "model = Word2Vec(sentences,min_count=1)"
      ],
      "metadata": {
        "id": "MItsY0Agy6QT"
      },
      "execution_count": 23,
      "outputs": []
    },
    {
      "cell_type": "code",
      "source": [
        "# Word2Vec approach\n",
        "result = model.wv.most_similar(positive=['woman', 'king'], negative=['man'])\n",
        "analogy_word = result[0][0]\n",
        "print(\"Analogy: king - man + woman =\", analogy_word)"
      ],
      "metadata": {
        "colab": {
          "base_uri": "https://localhost:8080/"
        },
        "id": "c22UgD6jnpWt",
        "outputId": "eceb46a9-d235-4401-f3b2-d14aaf1c3520"
      },
      "execution_count": 24,
      "outputs": [
        {
          "output_type": "stream",
          "name": "stdout",
          "text": [
            "Analogy: king - man + woman = queen\n"
          ]
        }
      ]
    },
    {
      "cell_type": "markdown",
      "source": [
        "In this example, we use the most_similar method of the Word2Vec model to find the most similar word to the vector obtained by adding the vectors of 'woman' and 'king' and subtracting the vector of 'man'"
      ],
      "metadata": {
        "id": "_bN5Dgd14RO_"
      }
    },
    {
      "cell_type": "markdown",
      "source": [
        "Note: Word2vec accepts several parameters that affect both training speed and quality, yet if you change in this case the min_count to a value that doensn't match your dataset the model will not give you any result"
      ],
      "metadata": {
        "id": "jDoKrWLR5CX_"
      }
    },
    {
      "cell_type": "markdown",
      "source": [
        "**Traditional Approach (Cosine Similarity):**"
      ],
      "metadata": {
        "id": "ShIoOh_c5qNO"
      }
    },
    {
      "cell_type": "code",
      "source": [],
      "metadata": {
        "id": "IJcA2BgckS-6"
      },
      "execution_count": null,
      "outputs": []
    },
    {
      "cell_type": "code",
      "source": [],
      "metadata": {
        "id": "q0ajE4m5ntm8"
      },
      "execution_count": null,
      "outputs": []
    },
    {
      "cell_type": "code",
      "source": [],
      "metadata": {
        "id": "aLGJKzigntp5"
      },
      "execution_count": null,
      "outputs": []
    },
    {
      "cell_type": "markdown",
      "source": [
        "#### **Continuous bag-of-words model**"
      ],
      "metadata": {
        "id": "s3HEmP00T2fY"
      }
    },
    {
      "cell_type": "code",
      "source": [],
      "metadata": {
        "id": "5GI-Hr0XUUKH"
      },
      "execution_count": null,
      "outputs": []
    },
    {
      "cell_type": "markdown",
      "source": [
        "#### **Continuous skip-gram model**"
      ],
      "metadata": {
        "id": "PWBjONRgT8Yv"
      }
    },
    {
      "cell_type": "code",
      "source": [],
      "metadata": {
        "id": "7PsY16uSUU0c"
      },
      "execution_count": null,
      "outputs": []
    },
    {
      "cell_type": "markdown",
      "source": [
        "![image.png](data:image/png;base64,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)"
      ],
      "metadata": {
        "id": "lNBXtCKucQQD"
      }
    },
    {
      "cell_type": "markdown",
      "source": [
        "References:\n"
      ],
      "metadata": {
        "id": "A_H0VzKuWCNT"
      }
    }
  ]
}